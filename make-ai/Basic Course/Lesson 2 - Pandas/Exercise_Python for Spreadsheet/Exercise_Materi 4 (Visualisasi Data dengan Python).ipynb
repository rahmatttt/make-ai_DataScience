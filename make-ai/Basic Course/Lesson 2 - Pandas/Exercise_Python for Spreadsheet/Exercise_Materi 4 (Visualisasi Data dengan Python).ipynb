{
 "cells": [
  {
   "cell_type": "markdown",
   "metadata": {},
   "source": [
    "# Materi 4 (Visualisasi Data dengan Python)"
   ]
  },
  {
   "cell_type": "markdown",
   "metadata": {},
   "source": [
    "Data Visualisasi adalah teknik menyajikan data secara visual melalui grafik, chart , peta agar tampilan menarik namun tetap informatif. Alasan ada nya data visualisasi adalah tidak lepas dari \"kebosanan\" dan \"monoton\" apabila data disajikan dalam bentuk baris dan kolom seperti dalam tabel tabel."
   ]
  },
  {
   "cell_type": "markdown",
   "metadata": {},
   "source": [
    "Panggil package-package berikut"
   ]
  },
  {
   "cell_type": "code",
   "execution_count": null,
   "metadata": {},
   "outputs": [],
   "source": [
    "import numpy as np\n",
    "import pandas as pd\n",
    "\n",
    "import seaborn as sns\n",
    "import matplotlib.pyplot as plt"
   ]
  },
  {
   "cell_type": "markdown",
   "metadata": {},
   "source": [
    "Fungsi yang digunakn pada pembuatan barplot. \n",
    "- sns.barplot() : Membuat barplot\n",
    "- plt.show() : Menampilkan barplot"
   ]
  },
  {
   "cell_type": "markdown",
   "metadata": {},
   "source": [
    "Inputkan data_penjualan_motor_2018.csv sebagi berikut"
   ]
  },
  {
   "cell_type": "code",
   "execution_count": null,
   "metadata": {},
   "outputs": [],
   "source": [
    "data = pd.read_csv('data/data_penjualan_motor_2018.csv', sep = ';')"
   ]
  },
  {
   "cell_type": "markdown",
   "metadata": {},
   "source": [
    "Tampilkan 5 baris awal datanya"
   ]
  },
  {
   "cell_type": "code",
   "execution_count": null,
   "metadata": {},
   "outputs": [],
   "source": []
  },
  {
   "cell_type": "markdown",
   "metadata": {},
   "source": [
    "Pada output tabel diatas diketahui data mempunyai 40 data dengan 4 variabel yaitu Tahun, Periode, Jenis dan Jumlah. "
   ]
  },
  {
   "cell_type": "markdown",
   "metadata": {},
   "source": [
    "Pertama tama, kita groupby dulu datanya agar resumenya dapat kita visualisasikan, gunakan perintah berikut :\n",
    "```\n",
    "totals = data.groupby('Jenis', as_index=False).sum().sort_values(['Jumlah'], ascending=False).reset_index()\n",
    "```\n",
    "\n",
    "kemudian, kita gunakan function ```sns.barplot(x='kolom_x', y='kolom_y', data='tabel_totals')```\n",
    "\n",
    "untuk menyimpan gambar dalam bentuk _.jpg_ atau _.png_, kita gunakan function ```.plt.savefig('namafile.png')```"
   ]
  },
  {
   "cell_type": "code",
   "execution_count": null,
   "metadata": {},
   "outputs": [],
   "source": []
  },
  {
   "cell_type": "markdown",
   "metadata": {},
   "source": [
    "Pada syntax dengan variabel 'totals' (syntax baris pertama) mengelompokkan dan menjumlahkan (sum) variabel Jenis sesuai dengan namanya yaitu Honda, Yamaha, Suzuki, Kawasaki dan TVS. Data yang dikelompokkan tersebut dijumlahkan sesuai dengan variabel 'Jumlah' dan diurutkan (sort_value) dari besar ke kecil (ascending). "
   ]
  },
  {
   "cell_type": "markdown",
   "metadata": {},
   "source": [
    "Pada syntax baris kedua yaitu sns.barplot() merupakan fungsi pembuatan barplot dengan nilai pada baris x yaitu variabel 'Jenis' dan nilai pada baris y yaitu variabel 'Jumlah'. "
   ]
  },
  {
   "cell_type": "markdown",
   "metadata": {},
   "source": [
    "plt.show() akan menampilkan barplot dari fungsi sns yang telah dibuat. "
   ]
  },
  {
   "cell_type": "markdown",
   "metadata": {},
   "source": [
    "plt.savefig('awesome_plot.png') akan menyimpan gambar barplot yang telah dibuat dengan nama awesome_plot dengan bentuk png. "
   ]
  },
  {
   "cell_type": "markdown",
   "metadata": {},
   "source": [
    "##### Membentuk barplot\n",
    "untuk menambahkan judul grafik, kita gunakan ```plt.title('nama_judul')```\n",
    "sedangkan untuk menambahkan judul pada sumbu x dan y, kita gunakan function ```plt.xlabel('label X')``` dan ```plt.ylabel('label y')```"
   ]
  },
  {
   "cell_type": "code",
   "execution_count": null,
   "metadata": {},
   "outputs": [],
   "source": []
  },
  {
   "cell_type": "markdown",
   "metadata": {},
   "source": [
    "membentuk barplot dapat kita tambahkan judul dengan menggunakan plt.title() dalam hal ini dengan nama Total penjualan motor di toko X tahun 2018, menambahkan nama pada sumbu x dapat dengan syntax plt.xlabel() dalam hal ini diberi nama Jmlah penjualan sedangkan pemberian nama pada sumbu y dengan syntax plt.ylabel() dalam hal ini dengan nama Jenis motor. "
   ]
  },
  {
   "cell_type": "markdown",
   "metadata": {},
   "source": [
    "##### menghapus kotak batas dengan sns.despine()"
   ]
  },
  {
   "cell_type": "code",
   "execution_count": null,
   "metadata": {},
   "outputs": [],
   "source": []
  },
  {
   "cell_type": "markdown",
   "metadata": {},
   "source": [
    "sns.despine() menghapus garis-garis yang ada digambar kecuali sumbux dan sumbu ya seperti gambar diatas. "
   ]
  },
  {
   "cell_type": "markdown",
   "metadata": {},
   "source": [
    "##### Menambahkan style dengan sns.set_style()"
   ]
  },
  {
   "cell_type": "code",
   "execution_count": null,
   "metadata": {},
   "outputs": [],
   "source": []
  },
  {
   "cell_type": "markdown",
   "metadata": {},
   "source": [
    "sns.set_style('whitegrid') digunakan untuk menambah style gambar agar lebih menarik. Pada gambar diatas menampilkan garis pada setiap nilai pada variabel Jumlah penjualan. "
   ]
  },
  {
   "cell_type": "markdown",
   "metadata": {},
   "source": [
    "##### Membuat Line Chart"
   ]
  },
  {
   "cell_type": "markdown",
   "metadata": {},
   "source": [
    "Misalnya, kita ingin membentuk line chart dari Jenis motor Yamaha. Mari, kita pilah terlebih dahulu data dengan Jenis motor Yamaha. \n",
    "```\n",
    "yamaha = data[data['Jenis'] == 'Yamaha'].reset_index(drop=True)\n",
    "```"
   ]
  },
  {
   "cell_type": "code",
   "execution_count": null,
   "metadata": {},
   "outputs": [],
   "source": []
  },
  {
   "cell_type": "markdown",
   "metadata": {},
   "source": [
    "Membentuk line chart dari Jenis motor Yamaha dengan sumbu x yaitu Periode, variabel y yaitu jenis dengan warna hijau (g atau green). \n",
    "\n",
    "```\n",
    "plt.figure(figsize=(20,10))\n",
    "a = plt.axes()\n",
    "a.plot('Periode', 'Jumlah', data=motor1, color ='g')\n",
    "plt.xlabel('Bulan')\n",
    "plt.ylabel('Total Produksi')\n",
    "plt.title('Hubungan variabel Bulan dan Total Produksi')\n",
    "plt.show()\n",
    "```"
   ]
  },
  {
   "cell_type": "code",
   "execution_count": null,
   "metadata": {},
   "outputs": [],
   "source": []
  },
  {
   "cell_type": "markdown",
   "metadata": {},
   "source": [
    "Dari line chart diatas dapat dilihat bahwa Data dari Januari ke Februari mengalami penurunan, kemudian mengalami penurunan kembali pada bulan Maret dan naik pada bulan April, dan seterusnya dapat dilihat pada gambar diatas. Penjualan tertinggi terdapat pada bulan Oktober sedangkan yang paling rendah yaitu pada bulan Maret. "
   ]
  },
  {
   "cell_type": "markdown",
   "metadata": {},
   "source": [
    "Selanjutnya, mari kita bentuk line chart dengan 2 garis yaitu Jenis motor Honda dan Yamaha. "
   ]
  },
  {
   "cell_type": "markdown",
   "metadata": {},
   "source": [
    "Sebelumnya kita pilah terlebih dahulu data dengan Jenis motor Honda. Ingat sebelumnya telah kita pilah juga Jenis motor Yamaha dengan nama motor1. \n"
   ]
  },
  {
   "cell_type": "code",
   "execution_count": null,
   "metadata": {},
   "outputs": [],
   "source": []
  },
  {
   "cell_type": "markdown",
   "metadata": {},
   "source": [
    "Setelah dipilah data Jenis motor Honda dan Yamaha. Kemudian kita bentuk line chart sebegai berikut."
   ]
  },
  {
   "cell_type": "code",
   "execution_count": null,
   "metadata": {},
   "outputs": [],
   "source": []
  },
  {
   "cell_type": "markdown",
   "metadata": {},
   "source": [
    "Didapatkan grafik dengan warna biru yaitu Honda sedangkan grafik dengan warna hijau yaitu Yamaha. Pada grafik tersebut dilihat bahwa penjualan motor honda jauh lebih tinggi dibandingkan Yamaha. "
   ]
  },
  {
   "cell_type": "markdown",
   "metadata": {},
   "source": [
    "#####  Hue dan legend()"
   ]
  },
  {
   "cell_type": "markdown",
   "metadata": {},
   "source": [
    "Masukan data train.csv berikut"
   ]
  },
  {
   "cell_type": "code",
   "execution_count": null,
   "metadata": {},
   "outputs": [],
   "source": [
    "titanic = pd.read_csv('data/train.csv', sep = ';')\n",
    "titanic.tail()"
   ]
  },
  {
   "cell_type": "markdown",
   "metadata": {},
   "source": [
    "Membuat barplot dengan melihat frekuensi dari setiap sex menggunakan sns.countplot()"
   ]
  },
  {
   "cell_type": "code",
   "execution_count": null,
   "metadata": {},
   "outputs": [],
   "source": []
  },
  {
   "cell_type": "markdown",
   "metadata": {},
   "source": [
    "Dari barplot diatas, mari kita ubah style dan keterangan dari pembahasan sebelumnya. "
   ]
  },
  {
   "cell_type": "code",
   "execution_count": null,
   "metadata": {},
   "outputs": [],
   "source": []
  },
  {
   "cell_type": "markdown",
   "metadata": {},
   "source": [
    "hue merupakan data pembagi kedua dari data pembagi pertama untuk divisualisasikan. Misalnya pada syntax sns.countplot(x='Sex', data=data1 , hue='Survived') maksudnya yaitu sumbu x yaitu Sex (Pada variabel Sex terdapat male dan female) dan kemudian male dan female dibagi lagi sesuai dengan variabel Survived (Survived bernilai 0 dan 1). Maka didapatkanlah barplot pada gambar diatas. Pada syntax plt.legend(bbox_to_anchor=(1, 1)) merupakan penampilan keterangan (legend) pada barplot (jika dilihat pada gambar bisa dilihat pada kanan atas.  "
   ]
  },
  {
   "cell_type": "markdown",
   "metadata": {},
   "source": [
    "Membuat pie chart dari variabel Sex yaitu male dan female"
   ]
  },
  {
   "cell_type": "code",
   "execution_count": null,
   "metadata": {},
   "outputs": [],
   "source": []
  },
  {
   "cell_type": "markdown",
   "metadata": {},
   "source": [
    "Pada syntax diatas variabel label merupakan label yang akan digunakan yaitu male dan female. variabel sizes menjumlahkan variabel Sex. Colours merupakan pemilihan warna yang kita inginkan digambar diatas menggunakan warna hijau dan kuning. Explode merupakan jarak antara gambar pie female dan male. setelah itu dibentuklah piechard dengan menggunakan pie chart(). "
   ]
  },
  {
   "cell_type": "code",
   "execution_count": null,
   "metadata": {},
   "outputs": [],
   "source": []
  }
 ],
 "metadata": {
  "kernelspec": {
   "display_name": "Python 3",
   "language": "python",
   "name": "python3"
  },
  "language_info": {
   "codemirror_mode": {
    "name": "ipython",
    "version": 3
   },
   "file_extension": ".py",
   "mimetype": "text/x-python",
   "name": "python",
   "nbconvert_exporter": "python",
   "pygments_lexer": "ipython3",
   "version": "3.6.7"
  }
 },
 "nbformat": 4,
 "nbformat_minor": 2
}
