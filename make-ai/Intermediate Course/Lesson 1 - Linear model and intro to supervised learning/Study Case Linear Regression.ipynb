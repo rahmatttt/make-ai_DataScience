{
 "cells": [
  {
   "cell_type": "markdown",
   "metadata": {},
   "source": [
    "# Study Case\n",
    "\n",
    "dalam project ini kita gunakan data cal_housing.csv"
   ]
  },
  {
   "cell_type": "code",
   "execution_count": 1,
   "metadata": {},
   "outputs": [],
   "source": [
    "import pandas as pd\n",
    "import numpy as np\n",
    "import matplotlib.pyplot as plt\n",
    "import seaborn as sns\n",
    "\n",
    "import math\n",
    "from sklearn.linear_model import LinearRegression, LogisticRegression\n",
    "from sklearn.model_selection import train_test_split\n",
    "from sklearn.metrics import mean_squared_error, mean_absolute_error, r2_score\n",
    "\n",
    "import warnings\n",
    "warnings.filterwarnings('ignore')"
   ]
  },
  {
   "cell_type": "code",
   "execution_count": 3,
   "metadata": {},
   "outputs": [
    {
     "data": {
      "text/html": [
       "<div>\n",
       "<style scoped>\n",
       "    .dataframe tbody tr th:only-of-type {\n",
       "        vertical-align: middle;\n",
       "    }\n",
       "\n",
       "    .dataframe tbody tr th {\n",
       "        vertical-align: top;\n",
       "    }\n",
       "\n",
       "    .dataframe thead th {\n",
       "        text-align: right;\n",
       "    }\n",
       "</style>\n",
       "<table border=\"1\" class=\"dataframe\">\n",
       "  <thead>\n",
       "    <tr style=\"text-align: right;\">\n",
       "      <th></th>\n",
       "      <th>longitude</th>\n",
       "      <th>latitude</th>\n",
       "      <th>housing_median_age</th>\n",
       "      <th>total_rooms</th>\n",
       "      <th>total_bedrooms</th>\n",
       "      <th>population</th>\n",
       "      <th>households</th>\n",
       "      <th>median_income</th>\n",
       "      <th>median_house_value</th>\n",
       "      <th>ocean_proximity</th>\n",
       "    </tr>\n",
       "  </thead>\n",
       "  <tbody>\n",
       "    <tr>\n",
       "      <th>0</th>\n",
       "      <td>-122.23</td>\n",
       "      <td>37.88</td>\n",
       "      <td>41.0</td>\n",
       "      <td>880.0</td>\n",
       "      <td>129.0</td>\n",
       "      <td>322.0</td>\n",
       "      <td>126.0</td>\n",
       "      <td>8.3252</td>\n",
       "      <td>452600.0</td>\n",
       "      <td>NEAR BAY</td>\n",
       "    </tr>\n",
       "    <tr>\n",
       "      <th>1</th>\n",
       "      <td>-122.22</td>\n",
       "      <td>37.86</td>\n",
       "      <td>21.0</td>\n",
       "      <td>7099.0</td>\n",
       "      <td>1106.0</td>\n",
       "      <td>2401.0</td>\n",
       "      <td>1138.0</td>\n",
       "      <td>8.3014</td>\n",
       "      <td>358500.0</td>\n",
       "      <td>NEAR BAY</td>\n",
       "    </tr>\n",
       "    <tr>\n",
       "      <th>2</th>\n",
       "      <td>-122.24</td>\n",
       "      <td>37.85</td>\n",
       "      <td>52.0</td>\n",
       "      <td>1467.0</td>\n",
       "      <td>190.0</td>\n",
       "      <td>496.0</td>\n",
       "      <td>177.0</td>\n",
       "      <td>7.2574</td>\n",
       "      <td>352100.0</td>\n",
       "      <td>NEAR BAY</td>\n",
       "    </tr>\n",
       "    <tr>\n",
       "      <th>3</th>\n",
       "      <td>-122.25</td>\n",
       "      <td>37.85</td>\n",
       "      <td>52.0</td>\n",
       "      <td>1274.0</td>\n",
       "      <td>235.0</td>\n",
       "      <td>558.0</td>\n",
       "      <td>219.0</td>\n",
       "      <td>5.6431</td>\n",
       "      <td>341300.0</td>\n",
       "      <td>NEAR BAY</td>\n",
       "    </tr>\n",
       "    <tr>\n",
       "      <th>4</th>\n",
       "      <td>-122.25</td>\n",
       "      <td>37.85</td>\n",
       "      <td>52.0</td>\n",
       "      <td>1627.0</td>\n",
       "      <td>280.0</td>\n",
       "      <td>565.0</td>\n",
       "      <td>259.0</td>\n",
       "      <td>3.8462</td>\n",
       "      <td>342200.0</td>\n",
       "      <td>NEAR BAY</td>\n",
       "    </tr>\n",
       "  </tbody>\n",
       "</table>\n",
       "</div>"
      ],
      "text/plain": [
       "   longitude  latitude  housing_median_age  total_rooms  total_bedrooms  \\\n",
       "0    -122.23     37.88                41.0        880.0           129.0   \n",
       "1    -122.22     37.86                21.0       7099.0          1106.0   \n",
       "2    -122.24     37.85                52.0       1467.0           190.0   \n",
       "3    -122.25     37.85                52.0       1274.0           235.0   \n",
       "4    -122.25     37.85                52.0       1627.0           280.0   \n",
       "\n",
       "   population  households  median_income  median_house_value ocean_proximity  \n",
       "0       322.0       126.0         8.3252            452600.0        NEAR BAY  \n",
       "1      2401.0      1138.0         8.3014            358500.0        NEAR BAY  \n",
       "2       496.0       177.0         7.2574            352100.0        NEAR BAY  \n",
       "3       558.0       219.0         5.6431            341300.0        NEAR BAY  \n",
       "4       565.0       259.0         3.8462            342200.0        NEAR BAY  "
      ]
     },
     "execution_count": 3,
     "metadata": {},
     "output_type": "execute_result"
    }
   ],
   "source": [
    "data_new = pd.read_csv('cal_housing.csv')\n",
    "data_new.head()"
   ]
  },
  {
   "cell_type": "code",
   "execution_count": 5,
   "metadata": {},
   "outputs": [
    {
     "data": {
      "text/plain": [
       "longitude            -0.045967\n",
       "latitude             -0.144160\n",
       "housing_median_age    0.105623\n",
       "total_rooms           0.134153\n",
       "total_bedrooms        0.049686\n",
       "population           -0.024650\n",
       "households            0.065843\n",
       "median_income         0.688075\n",
       "median_house_value    1.000000\n",
       "Name: median_house_value, dtype: float64"
      ]
     },
     "execution_count": 5,
     "metadata": {},
     "output_type": "execute_result"
    }
   ],
   "source": [
    "data_new.corr()['median_house_value']"
   ]
  },
  {
   "cell_type": "markdown",
   "metadata": {},
   "source": [
    "Kita akan gunakan median_income sebagai fitur untuk simple linear regression"
   ]
  },
  {
   "cell_type": "markdown",
   "metadata": {},
   "source": [
    "## 1. Simple Linear Regression"
   ]
  },
  {
   "cell_type": "code",
   "execution_count": 8,
   "metadata": {},
   "outputs": [],
   "source": [
    "X = data_new[['median_income']]\n",
    "y = data_new['median_house_value']"
   ]
  },
  {
   "cell_type": "code",
   "execution_count": 9,
   "metadata": {},
   "outputs": [
    {
     "data": {
      "text/plain": [
       "LinearRegression(copy_X=True, fit_intercept=True, n_jobs=None, normalize=False)"
      ]
     },
     "execution_count": 9,
     "metadata": {},
     "output_type": "execute_result"
    }
   ],
   "source": [
    "clf = LinearRegression()\n",
    "clf"
   ]
  },
  {
   "cell_type": "code",
   "execution_count": 10,
   "metadata": {},
   "outputs": [],
   "source": [
    "X_train,X_test,y_train,y_test = train_test_split(X,y,test_size=0.4,random_state = 45)"
   ]
  },
  {
   "cell_type": "code",
   "execution_count": 12,
   "metadata": {},
   "outputs": [
    {
     "data": {
      "text/plain": [
       "LinearRegression(copy_X=True, fit_intercept=True, n_jobs=None, normalize=False)"
      ]
     },
     "execution_count": 12,
     "metadata": {},
     "output_type": "execute_result"
    }
   ],
   "source": [
    "clf.fit(X_train, y_train)"
   ]
  },
  {
   "cell_type": "code",
   "execution_count": 13,
   "metadata": {},
   "outputs": [
    {
     "data": {
      "text/plain": [
       "array([41592.72287437])"
      ]
     },
     "execution_count": 13,
     "metadata": {},
     "output_type": "execute_result"
    }
   ],
   "source": [
    "clf.coef_"
   ]
  },
  {
   "cell_type": "code",
   "execution_count": 14,
   "metadata": {},
   "outputs": [
    {
     "data": {
      "text/plain": [
       "45755.69439773727"
      ]
     },
     "execution_count": 14,
     "metadata": {},
     "output_type": "execute_result"
    }
   ],
   "source": [
    "clf.intercept_"
   ]
  },
  {
   "cell_type": "code",
   "execution_count": 15,
   "metadata": {},
   "outputs": [],
   "source": [
    "pred = clf.predict(X_test)"
   ]
  },
  {
   "cell_type": "code",
   "execution_count": 16,
   "metadata": {},
   "outputs": [
    {
     "data": {
      "text/plain": [
       "array([145761.23727686, 152856.95579923, 233322.23747198, ...,\n",
       "       152099.96824291, 137554.99305375, 277464.59425854])"
      ]
     },
     "execution_count": 16,
     "metadata": {},
     "output_type": "execute_result"
    }
   ],
   "source": [
    "pred"
   ]
  },
  {
   "cell_type": "code",
   "execution_count": 17,
   "metadata": {},
   "outputs": [
    {
     "data": {
      "text/html": [
       "<div>\n",
       "<style scoped>\n",
       "    .dataframe tbody tr th:only-of-type {\n",
       "        vertical-align: middle;\n",
       "    }\n",
       "\n",
       "    .dataframe tbody tr th {\n",
       "        vertical-align: top;\n",
       "    }\n",
       "\n",
       "    .dataframe thead th {\n",
       "        text-align: right;\n",
       "    }\n",
       "</style>\n",
       "<table border=\"1\" class=\"dataframe\">\n",
       "  <thead>\n",
       "    <tr style=\"text-align: right;\">\n",
       "      <th></th>\n",
       "      <th>actual</th>\n",
       "      <th>prediction</th>\n",
       "    </tr>\n",
       "  </thead>\n",
       "  <tbody>\n",
       "    <tr>\n",
       "      <th>3046</th>\n",
       "      <td>65800.0</td>\n",
       "      <td>145761.237277</td>\n",
       "    </tr>\n",
       "    <tr>\n",
       "      <th>6803</th>\n",
       "      <td>228400.0</td>\n",
       "      <td>152856.955799</td>\n",
       "    </tr>\n",
       "    <tr>\n",
       "      <th>10112</th>\n",
       "      <td>241100.0</td>\n",
       "      <td>233322.237472</td>\n",
       "    </tr>\n",
       "    <tr>\n",
       "      <th>3126</th>\n",
       "      <td>137500.0</td>\n",
       "      <td>144538.411224</td>\n",
       "    </tr>\n",
       "    <tr>\n",
       "      <th>5008</th>\n",
       "      <td>193000.0</td>\n",
       "      <td>202672.559986</td>\n",
       "    </tr>\n",
       "    <tr>\n",
       "      <th>12772</th>\n",
       "      <td>73100.0</td>\n",
       "      <td>126495.488041</td>\n",
       "    </tr>\n",
       "    <tr>\n",
       "      <th>17396</th>\n",
       "      <td>121400.0</td>\n",
       "      <td>165334.772662</td>\n",
       "    </tr>\n",
       "    <tr>\n",
       "      <th>18498</th>\n",
       "      <td>374600.0</td>\n",
       "      <td>213116.492700</td>\n",
       "    </tr>\n",
       "    <tr>\n",
       "      <th>10378</th>\n",
       "      <td>293200.0</td>\n",
       "      <td>303360.223520</td>\n",
       "    </tr>\n",
       "    <tr>\n",
       "      <th>17812</th>\n",
       "      <td>258100.0</td>\n",
       "      <td>271292.234184</td>\n",
       "    </tr>\n",
       "    <tr>\n",
       "      <th>5287</th>\n",
       "      <td>500001.0</td>\n",
       "      <td>241278.925358</td>\n",
       "    </tr>\n",
       "    <tr>\n",
       "      <th>11637</th>\n",
       "      <td>132800.0</td>\n",
       "      <td>177812.589524</td>\n",
       "    </tr>\n",
       "    <tr>\n",
       "      <th>20033</th>\n",
       "      <td>60800.0</td>\n",
       "      <td>111933.875763</td>\n",
       "    </tr>\n",
       "    <tr>\n",
       "      <th>3899</th>\n",
       "      <td>193700.0</td>\n",
       "      <td>235618.155775</td>\n",
       "    </tr>\n",
       "    <tr>\n",
       "      <th>12699</th>\n",
       "      <td>55000.0</td>\n",
       "      <td>155735.172222</td>\n",
       "    </tr>\n",
       "    <tr>\n",
       "      <th>19552</th>\n",
       "      <td>60000.0</td>\n",
       "      <td>148872.372948</td>\n",
       "    </tr>\n",
       "    <tr>\n",
       "      <th>11402</th>\n",
       "      <td>205800.0</td>\n",
       "      <td>231791.625270</td>\n",
       "    </tr>\n",
       "    <tr>\n",
       "      <th>15017</th>\n",
       "      <td>161700.0</td>\n",
       "      <td>245155.367130</td>\n",
       "    </tr>\n",
       "    <tr>\n",
       "      <th>17580</th>\n",
       "      <td>229800.0</td>\n",
       "      <td>166295.564560</td>\n",
       "    </tr>\n",
       "    <tr>\n",
       "      <th>19460</th>\n",
       "      <td>185100.0</td>\n",
       "      <td>277360.612451</td>\n",
       "    </tr>\n",
       "    <tr>\n",
       "      <th>19295</th>\n",
       "      <td>175000.0</td>\n",
       "      <td>203770.607870</td>\n",
       "    </tr>\n",
       "    <tr>\n",
       "      <th>14936</th>\n",
       "      <td>221600.0</td>\n",
       "      <td>284323.234261</td>\n",
       "    </tr>\n",
       "    <tr>\n",
       "      <th>4396</th>\n",
       "      <td>185000.0</td>\n",
       "      <td>180457.886699</td>\n",
       "    </tr>\n",
       "    <tr>\n",
       "      <th>9544</th>\n",
       "      <td>67300.0</td>\n",
       "      <td>140641.173091</td>\n",
       "    </tr>\n",
       "    <tr>\n",
       "      <th>759</th>\n",
       "      <td>154300.0</td>\n",
       "      <td>152337.046763</td>\n",
       "    </tr>\n",
       "    <tr>\n",
       "      <th>17251</th>\n",
       "      <td>258300.0</td>\n",
       "      <td>153805.269881</td>\n",
       "    </tr>\n",
       "    <tr>\n",
       "      <th>13680</th>\n",
       "      <td>93300.0</td>\n",
       "      <td>181364.608057</td>\n",
       "    </tr>\n",
       "    <tr>\n",
       "      <th>7888</th>\n",
       "      <td>337400.0</td>\n",
       "      <td>319855.897412</td>\n",
       "    </tr>\n",
       "    <tr>\n",
       "      <th>8009</th>\n",
       "      <td>221700.0</td>\n",
       "      <td>253320.018630</td>\n",
       "    </tr>\n",
       "    <tr>\n",
       "      <th>11815</th>\n",
       "      <td>55300.0</td>\n",
       "      <td>134294.123580</td>\n",
       "    </tr>\n",
       "    <tr>\n",
       "      <th>...</th>\n",
       "      <td>...</td>\n",
       "      <td>...</td>\n",
       "    </tr>\n",
       "    <tr>\n",
       "      <th>10934</th>\n",
       "      <td>111000.0</td>\n",
       "      <td>160281.256832</td>\n",
       "    </tr>\n",
       "    <tr>\n",
       "      <th>9885</th>\n",
       "      <td>174800.0</td>\n",
       "      <td>191829.337133</td>\n",
       "    </tr>\n",
       "    <tr>\n",
       "      <th>17791</th>\n",
       "      <td>213100.0</td>\n",
       "      <td>258290.349013</td>\n",
       "    </tr>\n",
       "    <tr>\n",
       "      <th>5662</th>\n",
       "      <td>234500.0</td>\n",
       "      <td>130891.838849</td>\n",
       "    </tr>\n",
       "    <tr>\n",
       "      <th>10160</th>\n",
       "      <td>346900.0</td>\n",
       "      <td>318749.530984</td>\n",
       "    </tr>\n",
       "    <tr>\n",
       "      <th>8028</th>\n",
       "      <td>215800.0</td>\n",
       "      <td>216676.829778</td>\n",
       "    </tr>\n",
       "    <tr>\n",
       "      <th>14546</th>\n",
       "      <td>500001.0</td>\n",
       "      <td>336047.944427</td>\n",
       "    </tr>\n",
       "    <tr>\n",
       "      <th>4931</th>\n",
       "      <td>107900.0</td>\n",
       "      <td>136398.715358</td>\n",
       "    </tr>\n",
       "    <tr>\n",
       "      <th>14700</th>\n",
       "      <td>181000.0</td>\n",
       "      <td>259908.305933</td>\n",
       "    </tr>\n",
       "    <tr>\n",
       "      <th>11746</th>\n",
       "      <td>276600.0</td>\n",
       "      <td>398803.044700</td>\n",
       "    </tr>\n",
       "    <tr>\n",
       "      <th>13660</th>\n",
       "      <td>123100.0</td>\n",
       "      <td>240026.984399</td>\n",
       "    </tr>\n",
       "    <tr>\n",
       "      <th>5937</th>\n",
       "      <td>212800.0</td>\n",
       "      <td>186929.714378</td>\n",
       "    </tr>\n",
       "    <tr>\n",
       "      <th>19774</th>\n",
       "      <td>86400.0</td>\n",
       "      <td>137550.833781</td>\n",
       "    </tr>\n",
       "    <tr>\n",
       "      <th>15266</th>\n",
       "      <td>214600.0</td>\n",
       "      <td>193409.860602</td>\n",
       "    </tr>\n",
       "    <tr>\n",
       "      <th>1566</th>\n",
       "      <td>350000.0</td>\n",
       "      <td>669650.696786</td>\n",
       "    </tr>\n",
       "    <tr>\n",
       "      <th>7235</th>\n",
       "      <td>156800.0</td>\n",
       "      <td>145282.920964</td>\n",
       "    </tr>\n",
       "    <tr>\n",
       "      <th>4140</th>\n",
       "      <td>232000.0</td>\n",
       "      <td>203030.257403</td>\n",
       "    </tr>\n",
       "    <tr>\n",
       "      <th>10950</th>\n",
       "      <td>158000.0</td>\n",
       "      <td>195373.037121</td>\n",
       "    </tr>\n",
       "    <tr>\n",
       "      <th>6830</th>\n",
       "      <td>244400.0</td>\n",
       "      <td>265028.370119</td>\n",
       "    </tr>\n",
       "    <tr>\n",
       "      <th>17318</th>\n",
       "      <td>394900.0</td>\n",
       "      <td>275434.869382</td>\n",
       "    </tr>\n",
       "    <tr>\n",
       "      <th>10452</th>\n",
       "      <td>288100.0</td>\n",
       "      <td>257366.990566</td>\n",
       "    </tr>\n",
       "    <tr>\n",
       "      <th>7288</th>\n",
       "      <td>166300.0</td>\n",
       "      <td>175732.953380</td>\n",
       "    </tr>\n",
       "    <tr>\n",
       "      <th>5564</th>\n",
       "      <td>156400.0</td>\n",
       "      <td>205355.290611</td>\n",
       "    </tr>\n",
       "    <tr>\n",
       "      <th>7106</th>\n",
       "      <td>201000.0</td>\n",
       "      <td>237473.191215</td>\n",
       "    </tr>\n",
       "    <tr>\n",
       "      <th>13750</th>\n",
       "      <td>204100.0</td>\n",
       "      <td>326340.202908</td>\n",
       "    </tr>\n",
       "    <tr>\n",
       "      <th>20475</th>\n",
       "      <td>193400.0</td>\n",
       "      <td>272868.598381</td>\n",
       "    </tr>\n",
       "    <tr>\n",
       "      <th>1272</th>\n",
       "      <td>187100.0</td>\n",
       "      <td>249385.347046</td>\n",
       "    </tr>\n",
       "    <tr>\n",
       "      <th>373</th>\n",
       "      <td>111100.0</td>\n",
       "      <td>152099.968243</td>\n",
       "    </tr>\n",
       "    <tr>\n",
       "      <th>3049</th>\n",
       "      <td>64600.0</td>\n",
       "      <td>137554.993054</td>\n",
       "    </tr>\n",
       "    <tr>\n",
       "      <th>3951</th>\n",
       "      <td>244800.0</td>\n",
       "      <td>277464.594259</td>\n",
       "    </tr>\n",
       "  </tbody>\n",
       "</table>\n",
       "<p>8256 rows × 2 columns</p>\n",
       "</div>"
      ],
      "text/plain": [
       "         actual     prediction\n",
       "3046    65800.0  145761.237277\n",
       "6803   228400.0  152856.955799\n",
       "10112  241100.0  233322.237472\n",
       "3126   137500.0  144538.411224\n",
       "5008   193000.0  202672.559986\n",
       "12772   73100.0  126495.488041\n",
       "17396  121400.0  165334.772662\n",
       "18498  374600.0  213116.492700\n",
       "10378  293200.0  303360.223520\n",
       "17812  258100.0  271292.234184\n",
       "5287   500001.0  241278.925358\n",
       "11637  132800.0  177812.589524\n",
       "20033   60800.0  111933.875763\n",
       "3899   193700.0  235618.155775\n",
       "12699   55000.0  155735.172222\n",
       "19552   60000.0  148872.372948\n",
       "11402  205800.0  231791.625270\n",
       "15017  161700.0  245155.367130\n",
       "17580  229800.0  166295.564560\n",
       "19460  185100.0  277360.612451\n",
       "19295  175000.0  203770.607870\n",
       "14936  221600.0  284323.234261\n",
       "4396   185000.0  180457.886699\n",
       "9544    67300.0  140641.173091\n",
       "759    154300.0  152337.046763\n",
       "17251  258300.0  153805.269881\n",
       "13680   93300.0  181364.608057\n",
       "7888   337400.0  319855.897412\n",
       "8009   221700.0  253320.018630\n",
       "11815   55300.0  134294.123580\n",
       "...         ...            ...\n",
       "10934  111000.0  160281.256832\n",
       "9885   174800.0  191829.337133\n",
       "17791  213100.0  258290.349013\n",
       "5662   234500.0  130891.838849\n",
       "10160  346900.0  318749.530984\n",
       "8028   215800.0  216676.829778\n",
       "14546  500001.0  336047.944427\n",
       "4931   107900.0  136398.715358\n",
       "14700  181000.0  259908.305933\n",
       "11746  276600.0  398803.044700\n",
       "13660  123100.0  240026.984399\n",
       "5937   212800.0  186929.714378\n",
       "19774   86400.0  137550.833781\n",
       "15266  214600.0  193409.860602\n",
       "1566   350000.0  669650.696786\n",
       "7235   156800.0  145282.920964\n",
       "4140   232000.0  203030.257403\n",
       "10950  158000.0  195373.037121\n",
       "6830   244400.0  265028.370119\n",
       "17318  394900.0  275434.869382\n",
       "10452  288100.0  257366.990566\n",
       "7288   166300.0  175732.953380\n",
       "5564   156400.0  205355.290611\n",
       "7106   201000.0  237473.191215\n",
       "13750  204100.0  326340.202908\n",
       "20475  193400.0  272868.598381\n",
       "1272   187100.0  249385.347046\n",
       "373    111100.0  152099.968243\n",
       "3049    64600.0  137554.993054\n",
       "3951   244800.0  277464.594259\n",
       "\n",
       "[8256 rows x 2 columns]"
      ]
     },
     "execution_count": 17,
     "metadata": {},
     "output_type": "execute_result"
    }
   ],
   "source": [
    "pd.DataFrame({'actual':y_test,'prediction':pred})"
   ]
  },
  {
   "cell_type": "markdown",
   "metadata": {},
   "source": [
    "#### Scoring"
   ]
  },
  {
   "cell_type": "code",
   "execution_count": 18,
   "metadata": {},
   "outputs": [
    {
     "data": {
      "text/plain": [
       "6961943499.279389"
      ]
     },
     "execution_count": 18,
     "metadata": {},
     "output_type": "execute_result"
    }
   ],
   "source": [
    "mean_squared_error(y_test,pred)"
   ]
  },
  {
   "cell_type": "code",
   "execution_count": 19,
   "metadata": {},
   "outputs": [
    {
     "data": {
      "text/plain": [
       "62234.7264532076"
      ]
     },
     "execution_count": 19,
     "metadata": {},
     "output_type": "execute_result"
    }
   ],
   "source": [
    "mean_absolute_error(y_test,pred)"
   ]
  },
  {
   "cell_type": "code",
   "execution_count": 20,
   "metadata": {},
   "outputs": [
    {
     "data": {
      "text/plain": [
       "0.478717460936923"
      ]
     },
     "execution_count": 20,
     "metadata": {},
     "output_type": "execute_result"
    }
   ],
   "source": [
    "r2_score(y_test,pred)"
   ]
  },
  {
   "cell_type": "markdown",
   "metadata": {},
   "source": [
    "#### Plot"
   ]
  },
  {
   "cell_type": "code",
   "execution_count": 21,
   "metadata": {},
   "outputs": [
    {
     "data": {
      "image/png": "[encoded data removed]",
      "text/plain": [
       "<Figure size 432x288 with 1 Axes>"
      ]
     },
     "metadata": {
      "needs_background": "light"
     },
     "output_type": "display_data"
    }
   ],
   "source": [
    "plt.scatter(X_test, y_test) #data aktual\n",
    "plt.plot(X_test,pred,color = 'r') #model prediksi\n",
    "plt.title('Plot of Testing Data')\n",
    "plt.xlabel('median income')\n",
    "plt.ylabel('median house value')\n",
    "plt.show()"
   ]
  },
  {
   "cell_type": "markdown",
   "metadata": {},
   "source": [
    "## 2. Multiple Linear Regression"
   ]
  },
  {
   "cell_type": "code",
   "execution_count": 27,
   "metadata": {},
   "outputs": [
    {
     "data": {
      "text/plain": [
       "longitude               0\n",
       "latitude                0\n",
       "housing_median_age      0\n",
       "total_rooms             0\n",
       "total_bedrooms        207\n",
       "population              0\n",
       "households              0\n",
       "median_income           0\n",
       "median_house_value      0\n",
       "ocean_proximity         0\n",
       "dtype: int64"
      ]
     },
     "execution_count": 27,
     "metadata": {},
     "output_type": "execute_result"
    }
   ],
   "source": [
    "pd.isnull(data_new).sum()"
   ]
  },
  {
   "cell_type": "code",
   "execution_count": 29,
   "metadata": {},
   "outputs": [],
   "source": [
    "data_new = data_new.fillna({'total_bedrooms':data_new['total_bedrooms'].median()})"
   ]
  },
  {
   "cell_type": "code",
   "execution_count": 30,
   "metadata": {},
   "outputs": [],
   "source": [
    "X = data_new.drop(['median_house_value','ocean_proximity'], axis = 1)\n",
    "y = data_new['median_house_value']"
   ]
  },
  {
   "cell_type": "code",
   "execution_count": 31,
   "metadata": {},
   "outputs": [
    {
     "data": {
      "text/plain": [
       "LinearRegression(copy_X=True, fit_intercept=True, n_jobs=None, normalize=False)"
      ]
     },
     "execution_count": 31,
     "metadata": {},
     "output_type": "execute_result"
    }
   ],
   "source": [
    "clf = LinearRegression()\n",
    "clf"
   ]
  },
  {
   "cell_type": "code",
   "execution_count": 32,
   "metadata": {},
   "outputs": [],
   "source": [
    "X_train, X_test, y_train, y_test = train_test_split(X,y, test_size = 0.4, random_state=45)"
   ]
  },
  {
   "cell_type": "code",
   "execution_count": 33,
   "metadata": {},
   "outputs": [
    {
     "data": {
      "text/plain": [
       "LinearRegression(copy_X=True, fit_intercept=True, n_jobs=None, normalize=False)"
      ]
     },
     "execution_count": 33,
     "metadata": {},
     "output_type": "execute_result"
    }
   ],
   "source": [
    "clf.fit(X_train, y_train)"
   ]
  },
  {
   "cell_type": "code",
   "execution_count": 34,
   "metadata": {},
   "outputs": [
    {
     "data": {
      "text/plain": [
       "array([-4.34476971e+04, -4.32901855e+04,  1.13244372e+03, -7.61212172e+00,\n",
       "        9.11527477e+01, -4.43274119e+01,  8.43859658e+01,  3.97030120e+04])"
      ]
     },
     "execution_count": 34,
     "metadata": {},
     "output_type": "execute_result"
    }
   ],
   "source": [
    "clf.coef_"
   ]
  },
  {
   "cell_type": "code",
   "execution_count": 35,
   "metadata": {},
   "outputs": [
    {
     "data": {
      "text/plain": [
       "-3639743.546371448"
      ]
     },
     "execution_count": 35,
     "metadata": {},
     "output_type": "execute_result"
    }
   ],
   "source": [
    "clf.intercept_"
   ]
  },
  {
   "cell_type": "code",
   "execution_count": 36,
   "metadata": {},
   "outputs": [],
   "source": [
    "pred_2 = clf.predict(X_test)"
   ]
  },
  {
   "cell_type": "code",
   "execution_count": 37,
   "metadata": {},
   "outputs": [
    {
     "data": {
      "text/html": [
       "<div>\n",
       "<style scoped>\n",
       "    .dataframe tbody tr th:only-of-type {\n",
       "        vertical-align: middle;\n",
       "    }\n",
       "\n",
       "    .dataframe tbody tr th {\n",
       "        vertical-align: top;\n",
       "    }\n",
       "\n",
       "    .dataframe thead th {\n",
       "        text-align: right;\n",
       "    }\n",
       "</style>\n",
       "<table border=\"1\" class=\"dataframe\">\n",
       "  <thead>\n",
       "    <tr style=\"text-align: right;\">\n",
       "      <th></th>\n",
       "      <th>actual</th>\n",
       "      <th>pred_1</th>\n",
       "      <th>pred_2</th>\n",
       "    </tr>\n",
       "  </thead>\n",
       "  <tbody>\n",
       "    <tr>\n",
       "      <th>3046</th>\n",
       "      <td>65800.0</td>\n",
       "      <td>145761.237277</td>\n",
       "      <td>140584.958666</td>\n",
       "    </tr>\n",
       "    <tr>\n",
       "      <th>6803</th>\n",
       "      <td>228400.0</td>\n",
       "      <td>152856.955799</td>\n",
       "      <td>168205.537165</td>\n",
       "    </tr>\n",
       "    <tr>\n",
       "      <th>10112</th>\n",
       "      <td>241100.0</td>\n",
       "      <td>233322.237472</td>\n",
       "      <td>232680.512853</td>\n",
       "    </tr>\n",
       "    <tr>\n",
       "      <th>3126</th>\n",
       "      <td>137500.0</td>\n",
       "      <td>144538.411224</td>\n",
       "      <td>52607.577746</td>\n",
       "    </tr>\n",
       "    <tr>\n",
       "      <th>5008</th>\n",
       "      <td>193000.0</td>\n",
       "      <td>202672.559986</td>\n",
       "      <td>241306.724765</td>\n",
       "    </tr>\n",
       "    <tr>\n",
       "      <th>12772</th>\n",
       "      <td>73100.0</td>\n",
       "      <td>126495.488041</td>\n",
       "      <td>109449.696496</td>\n",
       "    </tr>\n",
       "    <tr>\n",
       "      <th>17396</th>\n",
       "      <td>121400.0</td>\n",
       "      <td>165334.772662</td>\n",
       "      <td>206954.675584</td>\n",
       "    </tr>\n",
       "    <tr>\n",
       "      <th>18498</th>\n",
       "      <td>374600.0</td>\n",
       "      <td>213116.492700</td>\n",
       "      <td>216294.071230</td>\n",
       "    </tr>\n",
       "    <tr>\n",
       "      <th>10378</th>\n",
       "      <td>293200.0</td>\n",
       "      <td>303360.223520</td>\n",
       "      <td>291614.405833</td>\n",
       "    </tr>\n",
       "    <tr>\n",
       "      <th>17812</th>\n",
       "      <td>258100.0</td>\n",
       "      <td>271292.234184</td>\n",
       "      <td>260103.899007</td>\n",
       "    </tr>\n",
       "    <tr>\n",
       "      <th>5287</th>\n",
       "      <td>500001.0</td>\n",
       "      <td>241278.925358</td>\n",
       "      <td>317890.101957</td>\n",
       "    </tr>\n",
       "    <tr>\n",
       "      <th>11637</th>\n",
       "      <td>132800.0</td>\n",
       "      <td>177812.589524</td>\n",
       "      <td>182255.813111</td>\n",
       "    </tr>\n",
       "    <tr>\n",
       "      <th>20033</th>\n",
       "      <td>60800.0</td>\n",
       "      <td>111933.875763</td>\n",
       "      <td>75132.461425</td>\n",
       "    </tr>\n",
       "    <tr>\n",
       "      <th>3899</th>\n",
       "      <td>193700.0</td>\n",
       "      <td>235618.155775</td>\n",
       "      <td>253332.397585</td>\n",
       "    </tr>\n",
       "    <tr>\n",
       "      <th>12699</th>\n",
       "      <td>55000.0</td>\n",
       "      <td>155735.172222</td>\n",
       "      <td>108787.478069</td>\n",
       "    </tr>\n",
       "    <tr>\n",
       "      <th>19552</th>\n",
       "      <td>60000.0</td>\n",
       "      <td>148872.372948</td>\n",
       "      <td>113645.172008</td>\n",
       "    </tr>\n",
       "    <tr>\n",
       "      <th>11402</th>\n",
       "      <td>205800.0</td>\n",
       "      <td>231791.625270</td>\n",
       "      <td>216320.423915</td>\n",
       "    </tr>\n",
       "    <tr>\n",
       "      <th>15017</th>\n",
       "      <td>161700.0</td>\n",
       "      <td>245155.367130</td>\n",
       "      <td>258963.084463</td>\n",
       "    </tr>\n",
       "    <tr>\n",
       "      <th>17580</th>\n",
       "      <td>229800.0</td>\n",
       "      <td>166295.564560</td>\n",
       "      <td>221545.476598</td>\n",
       "    </tr>\n",
       "    <tr>\n",
       "      <th>19460</th>\n",
       "      <td>185100.0</td>\n",
       "      <td>277360.612451</td>\n",
       "      <td>227198.844466</td>\n",
       "    </tr>\n",
       "    <tr>\n",
       "      <th>19295</th>\n",
       "      <td>175000.0</td>\n",
       "      <td>203770.607870</td>\n",
       "      <td>212462.552752</td>\n",
       "    </tr>\n",
       "    <tr>\n",
       "      <th>14936</th>\n",
       "      <td>221600.0</td>\n",
       "      <td>284323.234261</td>\n",
       "      <td>246685.660509</td>\n",
       "    </tr>\n",
       "    <tr>\n",
       "      <th>4396</th>\n",
       "      <td>185000.0</td>\n",
       "      <td>180457.886699</td>\n",
       "      <td>207924.842026</td>\n",
       "    </tr>\n",
       "    <tr>\n",
       "      <th>9544</th>\n",
       "      <td>67300.0</td>\n",
       "      <td>140641.173091</td>\n",
       "      <td>85856.632491</td>\n",
       "    </tr>\n",
       "    <tr>\n",
       "      <th>759</th>\n",
       "      <td>154300.0</td>\n",
       "      <td>152337.046763</td>\n",
       "      <td>178206.772237</td>\n",
       "    </tr>\n",
       "    <tr>\n",
       "      <th>17251</th>\n",
       "      <td>258300.0</td>\n",
       "      <td>153805.269881</td>\n",
       "      <td>232644.591096</td>\n",
       "    </tr>\n",
       "    <tr>\n",
       "      <th>13680</th>\n",
       "      <td>93300.0</td>\n",
       "      <td>181364.608057</td>\n",
       "      <td>145057.694896</td>\n",
       "    </tr>\n",
       "    <tr>\n",
       "      <th>7888</th>\n",
       "      <td>337400.0</td>\n",
       "      <td>319855.897412</td>\n",
       "      <td>266746.667649</td>\n",
       "    </tr>\n",
       "    <tr>\n",
       "      <th>8009</th>\n",
       "      <td>221700.0</td>\n",
       "      <td>253320.018630</td>\n",
       "      <td>265629.191828</td>\n",
       "    </tr>\n",
       "    <tr>\n",
       "      <th>11815</th>\n",
       "      <td>55300.0</td>\n",
       "      <td>134294.123580</td>\n",
       "      <td>53725.222824</td>\n",
       "    </tr>\n",
       "    <tr>\n",
       "      <th>...</th>\n",
       "      <td>...</td>\n",
       "      <td>...</td>\n",
       "      <td>...</td>\n",
       "    </tr>\n",
       "    <tr>\n",
       "      <th>10934</th>\n",
       "      <td>111000.0</td>\n",
       "      <td>160281.256832</td>\n",
       "      <td>55727.716671</td>\n",
       "    </tr>\n",
       "    <tr>\n",
       "      <th>9885</th>\n",
       "      <td>174800.0</td>\n",
       "      <td>191829.337133</td>\n",
       "      <td>250154.377590</td>\n",
       "    </tr>\n",
       "    <tr>\n",
       "      <th>17791</th>\n",
       "      <td>213100.0</td>\n",
       "      <td>258290.349013</td>\n",
       "      <td>251697.781068</td>\n",
       "    </tr>\n",
       "    <tr>\n",
       "      <th>5662</th>\n",
       "      <td>234500.0</td>\n",
       "      <td>130891.838849</td>\n",
       "      <td>183450.623548</td>\n",
       "    </tr>\n",
       "    <tr>\n",
       "      <th>10160</th>\n",
       "      <td>346900.0</td>\n",
       "      <td>318749.530984</td>\n",
       "      <td>279243.655327</td>\n",
       "    </tr>\n",
       "    <tr>\n",
       "      <th>8028</th>\n",
       "      <td>215800.0</td>\n",
       "      <td>216676.829778</td>\n",
       "      <td>236034.254904</td>\n",
       "    </tr>\n",
       "    <tr>\n",
       "      <th>14546</th>\n",
       "      <td>500001.0</td>\n",
       "      <td>336047.944427</td>\n",
       "      <td>316798.263826</td>\n",
       "    </tr>\n",
       "    <tr>\n",
       "      <th>4931</th>\n",
       "      <td>107900.0</td>\n",
       "      <td>136398.715358</td>\n",
       "      <td>143550.307967</td>\n",
       "    </tr>\n",
       "    <tr>\n",
       "      <th>14700</th>\n",
       "      <td>181000.0</td>\n",
       "      <td>259908.305933</td>\n",
       "      <td>271978.652421</td>\n",
       "    </tr>\n",
       "    <tr>\n",
       "      <th>11746</th>\n",
       "      <td>276600.0</td>\n",
       "      <td>398803.044700</td>\n",
       "      <td>313847.088108</td>\n",
       "    </tr>\n",
       "    <tr>\n",
       "      <th>13660</th>\n",
       "      <td>123100.0</td>\n",
       "      <td>240026.984399</td>\n",
       "      <td>182710.884790</td>\n",
       "    </tr>\n",
       "    <tr>\n",
       "      <th>5937</th>\n",
       "      <td>212800.0</td>\n",
       "      <td>186929.714378</td>\n",
       "      <td>166449.746433</td>\n",
       "    </tr>\n",
       "    <tr>\n",
       "      <th>19774</th>\n",
       "      <td>86400.0</td>\n",
       "      <td>137550.833781</td>\n",
       "      <td>62865.865221</td>\n",
       "    </tr>\n",
       "    <tr>\n",
       "      <th>15266</th>\n",
       "      <td>214600.0</td>\n",
       "      <td>193409.860602</td>\n",
       "      <td>194692.658819</td>\n",
       "    </tr>\n",
       "    <tr>\n",
       "      <th>1566</th>\n",
       "      <td>350000.0</td>\n",
       "      <td>669650.696786</td>\n",
       "      <td>623131.944732</td>\n",
       "    </tr>\n",
       "    <tr>\n",
       "      <th>7235</th>\n",
       "      <td>156800.0</td>\n",
       "      <td>145282.920964</td>\n",
       "      <td>171051.412050</td>\n",
       "    </tr>\n",
       "    <tr>\n",
       "      <th>4140</th>\n",
       "      <td>232000.0</td>\n",
       "      <td>203030.257403</td>\n",
       "      <td>214411.729395</td>\n",
       "    </tr>\n",
       "    <tr>\n",
       "      <th>10950</th>\n",
       "      <td>158000.0</td>\n",
       "      <td>195373.037121</td>\n",
       "      <td>196914.573866</td>\n",
       "    </tr>\n",
       "    <tr>\n",
       "      <th>6830</th>\n",
       "      <td>244400.0</td>\n",
       "      <td>265028.370119</td>\n",
       "      <td>277338.470104</td>\n",
       "    </tr>\n",
       "    <tr>\n",
       "      <th>17318</th>\n",
       "      <td>394900.0</td>\n",
       "      <td>275434.869382</td>\n",
       "      <td>314742.287336</td>\n",
       "    </tr>\n",
       "    <tr>\n",
       "      <th>10452</th>\n",
       "      <td>288100.0</td>\n",
       "      <td>257366.990566</td>\n",
       "      <td>259701.556005</td>\n",
       "    </tr>\n",
       "    <tr>\n",
       "      <th>7288</th>\n",
       "      <td>166300.0</td>\n",
       "      <td>175732.953380</td>\n",
       "      <td>191006.480111</td>\n",
       "    </tr>\n",
       "    <tr>\n",
       "      <th>5564</th>\n",
       "      <td>156400.0</td>\n",
       "      <td>205355.290611</td>\n",
       "      <td>237039.989525</td>\n",
       "    </tr>\n",
       "    <tr>\n",
       "      <th>7106</th>\n",
       "      <td>201000.0</td>\n",
       "      <td>237473.191215</td>\n",
       "      <td>250909.191628</td>\n",
       "    </tr>\n",
       "    <tr>\n",
       "      <th>13750</th>\n",
       "      <td>204100.0</td>\n",
       "      <td>326340.202908</td>\n",
       "      <td>241256.643175</td>\n",
       "    </tr>\n",
       "    <tr>\n",
       "      <th>20475</th>\n",
       "      <td>193400.0</td>\n",
       "      <td>272868.598381</td>\n",
       "      <td>271102.201069</td>\n",
       "    </tr>\n",
       "    <tr>\n",
       "      <th>1272</th>\n",
       "      <td>187100.0</td>\n",
       "      <td>249385.347046</td>\n",
       "      <td>217891.209397</td>\n",
       "    </tr>\n",
       "    <tr>\n",
       "      <th>373</th>\n",
       "      <td>111100.0</td>\n",
       "      <td>152099.968243</td>\n",
       "      <td>186843.484745</td>\n",
       "    </tr>\n",
       "    <tr>\n",
       "      <th>3049</th>\n",
       "      <td>64600.0</td>\n",
       "      <td>137554.993054</td>\n",
       "      <td>126351.335350</td>\n",
       "    </tr>\n",
       "    <tr>\n",
       "      <th>3951</th>\n",
       "      <td>244800.0</td>\n",
       "      <td>277464.594259</td>\n",
       "      <td>290193.547245</td>\n",
       "    </tr>\n",
       "  </tbody>\n",
       "</table>\n",
       "<p>8256 rows × 3 columns</p>\n",
       "</div>"
      ],
      "text/plain": [
       "         actual         pred_1         pred_2\n",
       "3046    65800.0  145761.237277  140584.958666\n",
       "6803   228400.0  152856.955799  168205.537165\n",
       "10112  241100.0  233322.237472  232680.512853\n",
       "3126   137500.0  144538.411224   52607.577746\n",
       "5008   193000.0  202672.559986  241306.724765\n",
       "12772   73100.0  126495.488041  109449.696496\n",
       "17396  121400.0  165334.772662  206954.675584\n",
       "18498  374600.0  213116.492700  216294.071230\n",
       "10378  293200.0  303360.223520  291614.405833\n",
       "17812  258100.0  271292.234184  260103.899007\n",
       "5287   500001.0  241278.925358  317890.101957\n",
       "11637  132800.0  177812.589524  182255.813111\n",
       "20033   60800.0  111933.875763   75132.461425\n",
       "3899   193700.0  235618.155775  253332.397585\n",
       "12699   55000.0  155735.172222  108787.478069\n",
       "19552   60000.0  148872.372948  113645.172008\n",
       "11402  205800.0  231791.625270  216320.423915\n",
       "15017  161700.0  245155.367130  258963.084463\n",
       "17580  229800.0  166295.564560  221545.476598\n",
       "19460  185100.0  277360.612451  227198.844466\n",
       "19295  175000.0  203770.607870  212462.552752\n",
       "14936  221600.0  284323.234261  246685.660509\n",
       "4396   185000.0  180457.886699  207924.842026\n",
       "9544    67300.0  140641.173091   85856.632491\n",
       "759    154300.0  152337.046763  178206.772237\n",
       "17251  258300.0  153805.269881  232644.591096\n",
       "13680   93300.0  181364.608057  145057.694896\n",
       "7888   337400.0  319855.897412  266746.667649\n",
       "8009   221700.0  253320.018630  265629.191828\n",
       "11815   55300.0  134294.123580   53725.222824\n",
       "...         ...            ...            ...\n",
       "10934  111000.0  160281.256832   55727.716671\n",
       "9885   174800.0  191829.337133  250154.377590\n",
       "17791  213100.0  258290.349013  251697.781068\n",
       "5662   234500.0  130891.838849  183450.623548\n",
       "10160  346900.0  318749.530984  279243.655327\n",
       "8028   215800.0  216676.829778  236034.254904\n",
       "14546  500001.0  336047.944427  316798.263826\n",
       "4931   107900.0  136398.715358  143550.307967\n",
       "14700  181000.0  259908.305933  271978.652421\n",
       "11746  276600.0  398803.044700  313847.088108\n",
       "13660  123100.0  240026.984399  182710.884790\n",
       "5937   212800.0  186929.714378  166449.746433\n",
       "19774   86400.0  137550.833781   62865.865221\n",
       "15266  214600.0  193409.860602  194692.658819\n",
       "1566   350000.0  669650.696786  623131.944732\n",
       "7235   156800.0  145282.920964  171051.412050\n",
       "4140   232000.0  203030.257403  214411.729395\n",
       "10950  158000.0  195373.037121  196914.573866\n",
       "6830   244400.0  265028.370119  277338.470104\n",
       "17318  394900.0  275434.869382  314742.287336\n",
       "10452  288100.0  257366.990566  259701.556005\n",
       "7288   166300.0  175732.953380  191006.480111\n",
       "5564   156400.0  205355.290611  237039.989525\n",
       "7106   201000.0  237473.191215  250909.191628\n",
       "13750  204100.0  326340.202908  241256.643175\n",
       "20475  193400.0  272868.598381  271102.201069\n",
       "1272   187100.0  249385.347046  217891.209397\n",
       "373    111100.0  152099.968243  186843.484745\n",
       "3049    64600.0  137554.993054  126351.335350\n",
       "3951   244800.0  277464.594259  290193.547245\n",
       "\n",
       "[8256 rows x 3 columns]"
      ]
     },
     "execution_count": 37,
     "metadata": {},
     "output_type": "execute_result"
    }
   ],
   "source": [
    "pd.DataFrame ({'actual':y_test, 'pred_1':pred, 'pred_2':pred_2})"
   ]
  },
  {
   "cell_type": "code",
   "execution_count": 38,
   "metadata": {},
   "outputs": [
    {
     "data": {
      "text/plain": [
       "5006442460.067068"
      ]
     },
     "execution_count": 38,
     "metadata": {},
     "output_type": "execute_result"
    }
   ],
   "source": [
    "mean_squared_error(y_test, pred_2)"
   ]
  },
  {
   "cell_type": "code",
   "execution_count": 39,
   "metadata": {},
   "outputs": [
    {
     "data": {
      "text/plain": [
       "51332.110066940506"
      ]
     },
     "execution_count": 39,
     "metadata": {},
     "output_type": "execute_result"
    }
   ],
   "source": [
    "mean_absolute_error(y_test, pred_2)"
   ]
  },
  {
   "cell_type": "code",
   "execution_count": 40,
   "metadata": {},
   "outputs": [
    {
     "data": {
      "text/plain": [
       "0.6251375729310231"
      ]
     },
     "execution_count": 40,
     "metadata": {},
     "output_type": "execute_result"
    }
   ],
   "source": [
    "r2_score(y_test, pred_2)"
   ]
  },
  {
   "cell_type": "code",
   "execution_count": null,
   "metadata": {},
   "outputs": [],
   "source": []
  }
 ],
 "metadata": {
  "kernelspec": {
   "display_name": "Python 3",
   "language": "python",
   "name": "python3"
  },
  "language_info": {
   "codemirror_mode": {
    "name": "ipython",
    "version": 3
   },
   "file_extension": ".py",
   "mimetype": "text/x-python",
   "name": "python",
   "nbconvert_exporter": "python",
   "pygments_lexer": "ipython3",
   "version": "3.7.3"
  }
 },
 "nbformat": 4,
 "nbformat_minor": 2
}
