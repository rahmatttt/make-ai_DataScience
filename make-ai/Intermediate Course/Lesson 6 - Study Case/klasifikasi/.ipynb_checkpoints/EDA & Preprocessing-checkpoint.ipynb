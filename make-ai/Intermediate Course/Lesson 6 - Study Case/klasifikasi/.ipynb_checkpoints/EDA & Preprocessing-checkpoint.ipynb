{
 "cells": [
  {
   "cell_type": "markdown",
   "metadata": {},
   "source": [
    "# Imported Library\n",
    "\n",
    "Please import all necessary library that will be needed in this kernel here."
   ]
  },
  {
   "cell_type": "code",
   "execution_count": 49,
   "metadata": {},
   "outputs": [],
   "source": [
    "import pandas as pd\n",
    "import numpy as np\n",
    "import matplotlib.pyplot as plt\n",
    "import seaborn as sns\n",
    "\n",
    "import math\n",
    "from sklearn.tree import DecisionTreeClassifier\n",
    "from sklearn.ensemble import RandomForestClassifier, GradientBoostingClassifier\n",
    "from sklearn.model_selection import train_test_split\n",
    "from sklearn.metrics import mean_squared_error, mean_absolute_error,r2_score\n",
    "from mlxtend.plotting import plot_decision_regions\n",
    "\n",
    "import warnings\n",
    "warnings.filterwarnings('ignore')"
   ]
  },
  {
   "cell_type": "markdown",
   "metadata": {},
   "source": [
    "# Imported Dataset\n",
    "\n",
    "Please import your dataset in pandas dataframe form. You can find the dataset in '../data/' directory. Don't forget to display the 5 top and size of dataset to give us initial idea about what kind dataset that we're going to analyze."
   ]
  },
  {
   "cell_type": "code",
   "execution_count": 50,
   "metadata": {},
   "outputs": [
    {
     "data": {
      "text/html": [
       "<div>\n",
       "<style scoped>\n",
       "    .dataframe tbody tr th:only-of-type {\n",
       "        vertical-align: middle;\n",
       "    }\n",
       "\n",
       "    .dataframe tbody tr th {\n",
       "        vertical-align: top;\n",
       "    }\n",
       "\n",
       "    .dataframe thead th {\n",
       "        text-align: right;\n",
       "    }\n",
       "</style>\n",
       "<table border=\"1\" class=\"dataframe\">\n",
       "  <thead>\n",
       "    <tr style=\"text-align: right;\">\n",
       "      <th></th>\n",
       "      <th>ID</th>\n",
       "      <th>LIMIT_BAL</th>\n",
       "      <th>SEX</th>\n",
       "      <th>EDUCATION</th>\n",
       "      <th>MARRIAGE</th>\n",
       "      <th>AGE</th>\n",
       "      <th>PAY_0</th>\n",
       "      <th>PAY_2</th>\n",
       "      <th>PAY_3</th>\n",
       "      <th>PAY_4</th>\n",
       "      <th>...</th>\n",
       "      <th>BILL_AMT4</th>\n",
       "      <th>BILL_AMT5</th>\n",
       "      <th>BILL_AMT6</th>\n",
       "      <th>PAY_AMT1</th>\n",
       "      <th>PAY_AMT2</th>\n",
       "      <th>PAY_AMT3</th>\n",
       "      <th>PAY_AMT4</th>\n",
       "      <th>PAY_AMT5</th>\n",
       "      <th>PAY_AMT6</th>\n",
       "      <th>default.payment.next.month</th>\n",
       "    </tr>\n",
       "  </thead>\n",
       "  <tbody>\n",
       "    <tr>\n",
       "      <th>0</th>\n",
       "      <td>1</td>\n",
       "      <td>20000.0</td>\n",
       "      <td>2</td>\n",
       "      <td>2</td>\n",
       "      <td>1</td>\n",
       "      <td>24</td>\n",
       "      <td>2</td>\n",
       "      <td>2</td>\n",
       "      <td>-1</td>\n",
       "      <td>-1</td>\n",
       "      <td>...</td>\n",
       "      <td>0.0</td>\n",
       "      <td>0.0</td>\n",
       "      <td>0.0</td>\n",
       "      <td>0.0</td>\n",
       "      <td>689.0</td>\n",
       "      <td>0.0</td>\n",
       "      <td>0.0</td>\n",
       "      <td>0.0</td>\n",
       "      <td>0.0</td>\n",
       "      <td>1</td>\n",
       "    </tr>\n",
       "    <tr>\n",
       "      <th>1</th>\n",
       "      <td>2</td>\n",
       "      <td>120000.0</td>\n",
       "      <td>2</td>\n",
       "      <td>2</td>\n",
       "      <td>2</td>\n",
       "      <td>26</td>\n",
       "      <td>-1</td>\n",
       "      <td>2</td>\n",
       "      <td>0</td>\n",
       "      <td>0</td>\n",
       "      <td>...</td>\n",
       "      <td>3272.0</td>\n",
       "      <td>3455.0</td>\n",
       "      <td>3261.0</td>\n",
       "      <td>0.0</td>\n",
       "      <td>1000.0</td>\n",
       "      <td>1000.0</td>\n",
       "      <td>1000.0</td>\n",
       "      <td>0.0</td>\n",
       "      <td>2000.0</td>\n",
       "      <td>1</td>\n",
       "    </tr>\n",
       "    <tr>\n",
       "      <th>2</th>\n",
       "      <td>3</td>\n",
       "      <td>90000.0</td>\n",
       "      <td>2</td>\n",
       "      <td>2</td>\n",
       "      <td>2</td>\n",
       "      <td>34</td>\n",
       "      <td>0</td>\n",
       "      <td>0</td>\n",
       "      <td>0</td>\n",
       "      <td>0</td>\n",
       "      <td>...</td>\n",
       "      <td>14331.0</td>\n",
       "      <td>14948.0</td>\n",
       "      <td>15549.0</td>\n",
       "      <td>1518.0</td>\n",
       "      <td>1500.0</td>\n",
       "      <td>1000.0</td>\n",
       "      <td>1000.0</td>\n",
       "      <td>1000.0</td>\n",
       "      <td>5000.0</td>\n",
       "      <td>0</td>\n",
       "    </tr>\n",
       "    <tr>\n",
       "      <th>3</th>\n",
       "      <td>4</td>\n",
       "      <td>50000.0</td>\n",
       "      <td>2</td>\n",
       "      <td>2</td>\n",
       "      <td>1</td>\n",
       "      <td>37</td>\n",
       "      <td>0</td>\n",
       "      <td>0</td>\n",
       "      <td>0</td>\n",
       "      <td>0</td>\n",
       "      <td>...</td>\n",
       "      <td>28314.0</td>\n",
       "      <td>28959.0</td>\n",
       "      <td>29547.0</td>\n",
       "      <td>2000.0</td>\n",
       "      <td>2019.0</td>\n",
       "      <td>1200.0</td>\n",
       "      <td>1100.0</td>\n",
       "      <td>1069.0</td>\n",
       "      <td>1000.0</td>\n",
       "      <td>0</td>\n",
       "    </tr>\n",
       "    <tr>\n",
       "      <th>4</th>\n",
       "      <td>5</td>\n",
       "      <td>50000.0</td>\n",
       "      <td>1</td>\n",
       "      <td>2</td>\n",
       "      <td>1</td>\n",
       "      <td>57</td>\n",
       "      <td>-1</td>\n",
       "      <td>0</td>\n",
       "      <td>-1</td>\n",
       "      <td>0</td>\n",
       "      <td>...</td>\n",
       "      <td>20940.0</td>\n",
       "      <td>19146.0</td>\n",
       "      <td>19131.0</td>\n",
       "      <td>2000.0</td>\n",
       "      <td>36681.0</td>\n",
       "      <td>10000.0</td>\n",
       "      <td>9000.0</td>\n",
       "      <td>689.0</td>\n",
       "      <td>679.0</td>\n",
       "      <td>0</td>\n",
       "    </tr>\n",
       "  </tbody>\n",
       "</table>\n",
       "<p>5 rows × 25 columns</p>\n",
       "</div>"
      ],
      "text/plain": [
       "   ID  LIMIT_BAL  SEX  EDUCATION  MARRIAGE  AGE  PAY_0  PAY_2  PAY_3  PAY_4  \\\n",
       "0   1    20000.0    2          2         1   24      2      2     -1     -1   \n",
       "1   2   120000.0    2          2         2   26     -1      2      0      0   \n",
       "2   3    90000.0    2          2         2   34      0      0      0      0   \n",
       "3   4    50000.0    2          2         1   37      0      0      0      0   \n",
       "4   5    50000.0    1          2         1   57     -1      0     -1      0   \n",
       "\n",
       "   ...  BILL_AMT4  BILL_AMT5  BILL_AMT6  PAY_AMT1  PAY_AMT2  PAY_AMT3  \\\n",
       "0  ...        0.0        0.0        0.0       0.0     689.0       0.0   \n",
       "1  ...     3272.0     3455.0     3261.0       0.0    1000.0    1000.0   \n",
       "2  ...    14331.0    14948.0    15549.0    1518.0    1500.0    1000.0   \n",
       "3  ...    28314.0    28959.0    29547.0    2000.0    2019.0    1200.0   \n",
       "4  ...    20940.0    19146.0    19131.0    2000.0   36681.0   10000.0   \n",
       "\n",
       "   PAY_AMT4  PAY_AMT5  PAY_AMT6  default.payment.next.month  \n",
       "0       0.0       0.0       0.0                           1  \n",
       "1    1000.0       0.0    2000.0                           1  \n",
       "2    1000.0    1000.0    5000.0                           0  \n",
       "3    1100.0    1069.0    1000.0                           0  \n",
       "4    9000.0     689.0     679.0                           0  \n",
       "\n",
       "[5 rows x 25 columns]"
      ]
     },
     "execution_count": 50,
     "metadata": {},
     "output_type": "execute_result"
    }
   ],
   "source": [
    "data = pd.read_csv('UCI_Credit_Card.csv')\n",
    "data.head()"
   ]
  },
  {
   "cell_type": "code",
   "execution_count": 51,
   "metadata": {},
   "outputs": [
    {
     "data": {
      "text/plain": [
       "(30000, 25)"
      ]
     },
     "execution_count": 51,
     "metadata": {},
     "output_type": "execute_result"
    }
   ],
   "source": [
    "data.shape"
   ]
  },
  {
   "cell_type": "markdown",
   "metadata": {},
   "source": [
    "<hr>"
   ]
  },
  {
   "cell_type": "markdown",
   "metadata": {},
   "source": [
    "# Domain Knowledge Analysis (optional)\n",
    "\n",
    "Please state your domain knowledge to make a hypothesis (unproved) related to this case. To do this task, you are demanded to learn a little bit about study field which is related to this case."
   ]
  },
  {
   "cell_type": "raw",
   "metadata": {},
   "source": []
  },
  {
   "cell_type": "markdown",
   "metadata": {},
   "source": [
    "<hr>"
   ]
  },
  {
   "cell_type": "markdown",
   "metadata": {},
   "source": [
    "# Exploratory Data Analysis\n",
    "\n",
    "Please do mind that what you will analyze in this section must be correlated or make sense to your model performance."
   ]
  },
  {
   "cell_type": "markdown",
   "metadata": {},
   "source": [
    "## Null value analysis\n",
    "\n",
    "Please analyze how much null value that was contained in our dataset. You can choose your prefered method for null value handling but in default, you can choose one of three methods below:\n",
    "1. fill them with median value,\n",
    "2. drop rows that contain null value, or\n",
    "3. drop columns that contain null value\n",
    "\n",
    "You can review what you learned first to choose the best method for our dataset."
   ]
  },
  {
   "cell_type": "code",
   "execution_count": 52,
   "metadata": {},
   "outputs": [
    {
     "name": "stdout",
     "output_type": "stream",
     "text": [
      "<class 'pandas.core.frame.DataFrame'>\n",
      "RangeIndex: 30000 entries, 0 to 29999\n",
      "Data columns (total 25 columns):\n",
      "ID                            30000 non-null int64\n",
      "LIMIT_BAL                     30000 non-null float64\n",
      "SEX                           30000 non-null int64\n",
      "EDUCATION                     30000 non-null int64\n",
      "MARRIAGE                      30000 non-null int64\n",
      "AGE                           30000 non-null int64\n",
      "PAY_0                         30000 non-null int64\n",
      "PAY_2                         30000 non-null int64\n",
      "PAY_3                         30000 non-null int64\n",
      "PAY_4                         30000 non-null int64\n",
      "PAY_5                         30000 non-null int64\n",
      "PAY_6                         30000 non-null int64\n",
      "BILL_AMT1                     30000 non-null float64\n",
      "BILL_AMT2                     30000 non-null float64\n",
      "BILL_AMT3                     30000 non-null float64\n",
      "BILL_AMT4                     30000 non-null float64\n",
      "BILL_AMT5                     30000 non-null float64\n",
      "BILL_AMT6                     30000 non-null float64\n",
      "PAY_AMT1                      30000 non-null float64\n",
      "PAY_AMT2                      30000 non-null float64\n",
      "PAY_AMT3                      30000 non-null float64\n",
      "PAY_AMT4                      30000 non-null float64\n",
      "PAY_AMT5                      30000 non-null float64\n",
      "PAY_AMT6                      30000 non-null float64\n",
      "default.payment.next.month    30000 non-null int64\n",
      "dtypes: float64(13), int64(12)\n",
      "memory usage: 5.7 MB\n"
     ]
    }
   ],
   "source": [
    "# Null value composition\n",
    "data.info()"
   ]
  },
  {
   "cell_type": "code",
   "execution_count": 53,
   "metadata": {},
   "outputs": [
    {
     "data": {
      "text/plain": [
       "ID                            0\n",
       "LIMIT_BAL                     0\n",
       "SEX                           0\n",
       "EDUCATION                     0\n",
       "MARRIAGE                      0\n",
       "AGE                           0\n",
       "PAY_0                         0\n",
       "PAY_2                         0\n",
       "PAY_3                         0\n",
       "PAY_4                         0\n",
       "PAY_5                         0\n",
       "PAY_6                         0\n",
       "BILL_AMT1                     0\n",
       "BILL_AMT2                     0\n",
       "BILL_AMT3                     0\n",
       "BILL_AMT4                     0\n",
       "BILL_AMT5                     0\n",
       "BILL_AMT6                     0\n",
       "PAY_AMT1                      0\n",
       "PAY_AMT2                      0\n",
       "PAY_AMT3                      0\n",
       "PAY_AMT4                      0\n",
       "PAY_AMT5                      0\n",
       "PAY_AMT6                      0\n",
       "default.payment.next.month    0\n",
       "dtype: int64"
      ]
     },
     "execution_count": 53,
     "metadata": {},
     "output_type": "execute_result"
    }
   ],
   "source": [
    "data.isnull().sum()"
   ]
  },
  {
   "cell_type": "code",
   "execution_count": 54,
   "metadata": {},
   "outputs": [],
   "source": [
    "# Null value handling"
   ]
  },
  {
   "cell_type": "markdown",
   "metadata": {},
   "source": [
    "## Irregular value analysis\n",
    "\n",
    "1. Please analyze if there are some irregular value that was contained in our dataset. \n",
    "2. Please refer to \"Feature Explanations\" to know the meaning of each features so you can identify if there is irregular value in one or more features. \n",
    "3. Value is irregular if it's different from valid distinct value set in a specific feature\n",
    "4. Outlier is also considered to be irregular\n",
    "5. Please explain the method that you use for irregular value handling.\n",
    "6. Please seperate each cell for irregular value handling in each feature\n",
    "\n",
    "<div style='color:red;font-weight:bold'>NB: You can skip this step if you feel there are no irregular values in our dataset</div>"
   ]
  },
  {
   "cell_type": "code",
   "execution_count": 106,
   "metadata": {},
   "outputs": [],
   "source": [
    "def remove_outlier(df_in, col_name):\n",
    "    q1 = df_in[col_name].quantile(0.25)\n",
    "    q3 = df_in[col_name].quantile(0.75)\n",
    "    iqr = q3-q1 #Interquartile range\n",
    "    fence_low  = q1-1.5*iqr\n",
    "    fence_high = q3+1.5*iqr\n",
    "    df_out = df_in.loc[(df_in[col_name] > fence_low) & (df_in[col_name] < fence_high)]\n",
    "    return df_out"
   ]
  },
  {
   "cell_type": "code",
   "execution_count": 233,
   "metadata": {},
   "outputs": [
    {
     "data": {
      "text/plain": [
       "(9060, 25)"
      ]
     },
     "execution_count": 233,
     "metadata": {},
     "output_type": "execute_result"
    }
   ],
   "source": [
    "# Irregular value handling feature 1 (LIMIT_BAL)\n",
    "data = remove_outlier(data, 'LIMIT_BAL')\n",
    "data.shape"
   ]
  },
  {
   "cell_type": "code",
   "execution_count": 234,
   "metadata": {},
   "outputs": [
    {
     "data": {
      "text/plain": [
       "(9060, 25)"
      ]
     },
     "execution_count": 234,
     "metadata": {},
     "output_type": "execute_result"
    }
   ],
   "source": [
    "# Irregular value handling feature 2 (BILL_AMT1)\n",
    "\n",
    "data = remove_outlier(data, 'BILL_AMT1')\n",
    "data.shape"
   ]
  },
  {
   "cell_type": "code",
   "execution_count": 235,
   "metadata": {},
   "outputs": [
    {
     "data": {
      "text/plain": [
       "(9060, 25)"
      ]
     },
     "execution_count": 235,
     "metadata": {},
     "output_type": "execute_result"
    }
   ],
   "source": [
    "# Irregular value handling feature 3 (BILL_AMT2)\n",
    "\n",
    "data = remove_outlier(data, 'BILL_AMT2')\n",
    "data.shape"
   ]
  },
  {
   "cell_type": "code",
   "execution_count": 236,
   "metadata": {},
   "outputs": [
    {
     "data": {
      "text/plain": [
       "(9060, 25)"
      ]
     },
     "execution_count": 236,
     "metadata": {},
     "output_type": "execute_result"
    }
   ],
   "source": [
    "# Irregular value handling feature 4 (BILL_AMT3)\n",
    "\n",
    "data = remove_outlier(data, 'BILL_AMT3')\n",
    "data.shape"
   ]
  },
  {
   "cell_type": "code",
   "execution_count": 237,
   "metadata": {},
   "outputs": [
    {
     "data": {
      "text/plain": [
       "(9060, 25)"
      ]
     },
     "execution_count": 237,
     "metadata": {},
     "output_type": "execute_result"
    }
   ],
   "source": [
    "# Irregular value handling feature 5 (BILL_AMT4)\n",
    "\n",
    "data = remove_outlier(data, 'BILL_AMT4')\n",
    "data.shape"
   ]
  },
  {
   "cell_type": "code",
   "execution_count": 238,
   "metadata": {},
   "outputs": [
    {
     "data": {
      "text/plain": [
       "(9060, 25)"
      ]
     },
     "execution_count": 238,
     "metadata": {},
     "output_type": "execute_result"
    }
   ],
   "source": [
    "# Irregular value handling feature 6 (BILL_AMT5)\n",
    "\n",
    "data = remove_outlier(data, 'BILL_AMT5')\n",
    "data.shape"
   ]
  },
  {
   "cell_type": "code",
   "execution_count": 239,
   "metadata": {},
   "outputs": [
    {
     "data": {
      "text/plain": [
       "(9060, 25)"
      ]
     },
     "execution_count": 239,
     "metadata": {},
     "output_type": "execute_result"
    }
   ],
   "source": [
    "# Irregular value handling feature 7 (BILL_AMT6)\n",
    "\n",
    "data = remove_outlier(data, 'BILL_AMT6')\n",
    "data.shape"
   ]
  },
  {
   "cell_type": "code",
   "execution_count": 240,
   "metadata": {},
   "outputs": [
    {
     "data": {
      "text/plain": [
       "(9060, 25)"
      ]
     },
     "execution_count": 240,
     "metadata": {},
     "output_type": "execute_result"
    }
   ],
   "source": [
    "# Irregular value handling feature 8 (PAY_AMT1)\n",
    "\n",
    "data = remove_outlier(data, 'PAY_AMT1')\n",
    "data.shape"
   ]
  },
  {
   "cell_type": "code",
   "execution_count": 241,
   "metadata": {},
   "outputs": [
    {
     "data": {
      "text/plain": [
       "(9060, 25)"
      ]
     },
     "execution_count": 241,
     "metadata": {},
     "output_type": "execute_result"
    }
   ],
   "source": [
    "# Irregular value handling feature 9 (PAY_AMT2)\n",
    "\n",
    "data = remove_outlier(data, 'PAY_AMT2')\n",
    "data.shape"
   ]
  },
  {
   "cell_type": "code",
   "execution_count": 242,
   "metadata": {},
   "outputs": [
    {
     "data": {
      "text/plain": [
       "(9060, 25)"
      ]
     },
     "execution_count": 242,
     "metadata": {},
     "output_type": "execute_result"
    }
   ],
   "source": [
    "# Irregular value handling feature 10 (PAY_AMT3)\n",
    "\n",
    "data = remove_outlier(data, 'PAY_AMT3')\n",
    "data.shape"
   ]
  },
  {
   "cell_type": "code",
   "execution_count": 243,
   "metadata": {},
   "outputs": [
    {
     "data": {
      "text/plain": [
       "(9060, 25)"
      ]
     },
     "execution_count": 243,
     "metadata": {},
     "output_type": "execute_result"
    }
   ],
   "source": [
    "# Irregular value handling feature 11 (PAY_AMT4)\n",
    "\n",
    "data = remove_outlier(data, 'PAY_AMT4')\n",
    "data.shape"
   ]
  },
  {
   "cell_type": "code",
   "execution_count": 244,
   "metadata": {},
   "outputs": [
    {
     "data": {
      "text/plain": [
       "(9060, 25)"
      ]
     },
     "execution_count": 244,
     "metadata": {},
     "output_type": "execute_result"
    }
   ],
   "source": [
    "# Irregular value handling feature 12 (PAY_AMT5)\n",
    "\n",
    "data = remove_outlier(data, 'PAY_AMT5')\n",
    "data.shape"
   ]
  },
  {
   "cell_type": "code",
   "execution_count": 245,
   "metadata": {},
   "outputs": [
    {
     "data": {
      "text/plain": [
       "(9060, 25)"
      ]
     },
     "execution_count": 245,
     "metadata": {},
     "output_type": "execute_result"
    }
   ],
   "source": [
    "# Irregular value handling feature 13 (PAY_AMT6)\n",
    "\n",
    "data = remove_outlier(data, 'PAY_AMT6')\n",
    "data.shape"
   ]
  },
  {
   "cell_type": "code",
   "execution_count": 246,
   "metadata": {},
   "outputs": [
    {
     "data": {
      "text/plain": [
       "(9060, 25)"
      ]
     },
     "execution_count": 246,
     "metadata": {},
     "output_type": "execute_result"
    }
   ],
   "source": [
    "# Irregular value handling feature 14 (AGE)\n",
    "\n",
    "data = remove_outlier(data, 'AGE')\n",
    "data.shape"
   ]
  },
  {
   "cell_type": "markdown",
   "metadata": {},
   "source": [
    "## Data type analysis\n",
    "\n",
    "It's important to make sure that each feature already use correct data type. Please make sure all features already use correct data type based on whether the feature is categorical or numerical. Please change:\n",
    "1. categorical feature into 'int64', and\n",
    "2. numerical feature into 'float64'"
   ]
  },
  {
   "cell_type": "code",
   "execution_count": 69,
   "metadata": {},
   "outputs": [
    {
     "name": "stdout",
     "output_type": "stream",
     "text": [
      "<class 'pandas.core.frame.DataFrame'>\n",
      "Int64Index: 14487 entries, 0 to 29999\n",
      "Data columns (total 25 columns):\n",
      "ID                            14487 non-null int64\n",
      "LIMIT_BAL                     14487 non-null float64\n",
      "SEX                           14487 non-null int64\n",
      "EDUCATION                     14487 non-null int64\n",
      "MARRIAGE                      14487 non-null int64\n",
      "AGE                           14487 non-null int64\n",
      "PAY_0                         14487 non-null int64\n",
      "PAY_2                         14487 non-null int64\n",
      "PAY_3                         14487 non-null int64\n",
      "PAY_4                         14487 non-null int64\n",
      "PAY_5                         14487 non-null int64\n",
      "PAY_6                         14487 non-null int64\n",
      "BILL_AMT1                     14487 non-null float64\n",
      "BILL_AMT2                     14487 non-null float64\n",
      "BILL_AMT3                     14487 non-null float64\n",
      "BILL_AMT4                     14487 non-null float64\n",
      "BILL_AMT5                     14487 non-null float64\n",
      "BILL_AMT6                     14487 non-null float64\n",
      "PAY_AMT1                      14487 non-null float64\n",
      "PAY_AMT2                      14487 non-null float64\n",
      "PAY_AMT3                      14487 non-null float64\n",
      "PAY_AMT4                      14487 non-null float64\n",
      "PAY_AMT5                      14487 non-null float64\n",
      "PAY_AMT6                      14487 non-null float64\n",
      "default.payment.next.month    14487 non-null int64\n",
      "dtypes: float64(13), int64(12)\n",
      "memory usage: 2.9 MB\n"
     ]
    }
   ],
   "source": [
    "# Data type display\n",
    "\n",
    "data.info()"
   ]
  },
  {
   "cell_type": "code",
   "execution_count": 70,
   "metadata": {},
   "outputs": [],
   "source": [
    "# Data type handling\n",
    "\n",
    "# Data type already handled"
   ]
  },
  {
   "cell_type": "markdown",
   "metadata": {},
   "source": [
    "## Feature correlation analysis\n",
    "\n",
    "The purpose of this section to find if there are possibility of multi-correlation between features and in the same time to get insight about which features (X) that have good correlation with our target (y)."
   ]
  },
  {
   "cell_type": "markdown",
   "metadata": {},
   "source": [
    "### Heatmap correlation\n",
    "\n",
    "Heatmap is one of simplest method to analyze feature correlation. Please do:\n",
    "1. make heatmap correlation with only features (X) - we need to know correlation between features and avoid multi-correlation features,\n",
    "2. make heatmap correlation with features (X) and target (y) - we need to know which features that have good correlation with our target,\n",
    "\n",
    "You can select some good features only (highlighting) to make the plots clearer."
   ]
  },
  {
   "cell_type": "code",
   "execution_count": 71,
   "metadata": {},
   "outputs": [
    {
     "data": {
      "image/png": "[encoded data removed]",
      "text/plain": [
       "<Figure size 1440x720 with 2 Axes>"
      ]
     },
     "metadata": {
      "needs_background": "light"
     },
     "output_type": "display_data"
    }
   ],
   "source": [
    "# Heatmap correlation with only features (X)\n",
    "plt.figure(figsize=(20,10))\n",
    "sns.heatmap(data.iloc[:,1:].corr(), annot=True)\n",
    "plt.show()"
   ]
  },
  {
   "cell_type": "code",
   "execution_count": 72,
   "metadata": {},
   "outputs": [
    {
     "data": {
      "text/plain": [
       "LIMIT_BAL                    -0.108558\n",
       "SEX                          -0.029842\n",
       "EDUCATION                     0.011193\n",
       "MARRIAGE                     -0.024175\n",
       "AGE                           0.016797\n",
       "PAY_0                         0.309883\n",
       "PAY_2                         0.240823\n",
       "PAY_3                         0.215887\n",
       "PAY_4                         0.211342\n",
       "PAY_5                         0.199970\n",
       "PAY_6                         0.187751\n",
       "BILL_AMT1                    -0.061666\n",
       "BILL_AMT2                    -0.037911\n",
       "BILL_AMT3                    -0.018569\n",
       "BILL_AMT4                    -0.001150\n",
       "BILL_AMT5                     0.010929\n",
       "BILL_AMT6                     0.023554\n",
       "PAY_AMT1                     -0.101675\n",
       "PAY_AMT2                     -0.079923\n",
       "PAY_AMT3                     -0.073953\n",
       "PAY_AMT4                     -0.058297\n",
       "PAY_AMT5                     -0.052041\n",
       "PAY_AMT6                     -0.048426\n",
       "default.payment.next.month    1.000000\n",
       "Name: default.payment.next.month, dtype: float64"
      ]
     },
     "execution_count": 72,
     "metadata": {},
     "output_type": "execute_result"
    }
   ],
   "source": [
    "# Heatmap correlation with features (X) and target (y)\n",
    "\n",
    "data.iloc[:,1:].corr()['default.payment.next.month']"
   ]
  },
  {
   "cell_type": "markdown",
   "metadata": {},
   "source": [
    "## Distribution analysis\n",
    "\n",
    "Please make:\n",
    "1. distribution plot for each numerical feature - we need to know how is distribution shape for each numerical feature\n",
    "2. histogram for each categorical feature - we need to know how is distribution for each distinct value in each feature\n",
    "\n",
    "<div style='color:red'>\n",
    "    <b>\n",
    "        NB: Please do: <br>\n",
    "        1. separate each feature's plot, and <br>\n",
    "        2. give good title and good axis title for each plot\n",
    "    </b>\n",
    "</div>"
   ]
  },
  {
   "cell_type": "code",
   "execution_count": 73,
   "metadata": {},
   "outputs": [
    {
     "name": "stdout",
     "output_type": "stream",
     "text": [
      "<class 'pandas.core.frame.DataFrame'>\n",
      "Int64Index: 14487 entries, 0 to 29999\n",
      "Data columns (total 25 columns):\n",
      "ID                            14487 non-null int64\n",
      "LIMIT_BAL                     14487 non-null float64\n",
      "SEX                           14487 non-null int64\n",
      "EDUCATION                     14487 non-null int64\n",
      "MARRIAGE                      14487 non-null int64\n",
      "AGE                           14487 non-null int64\n",
      "PAY_0                         14487 non-null int64\n",
      "PAY_2                         14487 non-null int64\n",
      "PAY_3                         14487 non-null int64\n",
      "PAY_4                         14487 non-null int64\n",
      "PAY_5                         14487 non-null int64\n",
      "PAY_6                         14487 non-null int64\n",
      "BILL_AMT1                     14487 non-null float64\n",
      "BILL_AMT2                     14487 non-null float64\n",
      "BILL_AMT3                     14487 non-null float64\n",
      "BILL_AMT4                     14487 non-null float64\n",
      "BILL_AMT5                     14487 non-null float64\n",
      "BILL_AMT6                     14487 non-null float64\n",
      "PAY_AMT1                      14487 non-null float64\n",
      "PAY_AMT2                      14487 non-null float64\n",
      "PAY_AMT3                      14487 non-null float64\n",
      "PAY_AMT4                      14487 non-null float64\n",
      "PAY_AMT5                      14487 non-null float64\n",
      "PAY_AMT6                      14487 non-null float64\n",
      "default.payment.next.month    14487 non-null int64\n",
      "dtypes: float64(13), int64(12)\n",
      "memory usage: 2.9 MB\n"
     ]
    }
   ],
   "source": [
    "data.info()"
   ]
  },
  {
   "cell_type": "code",
   "execution_count": 247,
   "metadata": {},
   "outputs": [
    {
     "data": {
      "image/png": "[encoded data removed]",
      "text/plain": [
       "<Figure size 432x288 with 1 Axes>"
      ]
     },
     "metadata": {
      "needs_background": "light"
     },
     "output_type": "display_data"
    }
   ],
   "source": [
    "# Distribution analysis feature 1 (LIMIT_BAL)\n",
    "\n",
    "sns.boxplot(x = 'LIMIT_BAL', data=data)\n",
    "plt.title('Amount of given credit in NT dollars')\n",
    "plt.show()"
   ]
  },
  {
   "cell_type": "code",
   "execution_count": 248,
   "metadata": {},
   "outputs": [
    {
     "data": {
      "image/png": "[encoded data removed]",
      "text/plain": [
       "<Figure size 432x288 with 1 Axes>"
      ]
     },
     "metadata": {
      "needs_background": "light"
     },
     "output_type": "display_data"
    }
   ],
   "source": [
    "# Distribution analysis feature 2 (SEX)\n",
    "\n",
    "sns.distplot(data['SEX'], kde=False)\n",
    "plt.ylabel('count')\n",
    "plt.title('distribution of sex')\n",
    "plt.show()"
   ]
  },
  {
   "cell_type": "code",
   "execution_count": 249,
   "metadata": {},
   "outputs": [
    {
     "data": {
      "image/png": "[encoded data removed]",
      "text/plain": [
       "<Figure size 432x288 with 1 Axes>"
      ]
     },
     "metadata": {
      "needs_background": "light"
     },
     "output_type": "display_data"
    }
   ],
   "source": [
    "# Distribution analysis feature 3 (EDUCATION)\n",
    "\n",
    "sns.distplot(data['EDUCATION'], kde=False)\n",
    "plt.ylabel('count')\n",
    "plt.title('distribution of education')\n",
    "plt.show()"
   ]
  },
  {
   "cell_type": "code",
   "execution_count": 250,
   "metadata": {},
   "outputs": [
    {
     "data": {
      "image/png": "[encoded data removed]",
      "text/plain": [
       "<Figure size 432x288 with 1 Axes>"
      ]
     },
     "metadata": {
      "needs_background": "light"
     },
     "output_type": "display_data"
    }
   ],
   "source": [
    "# Distribution analysis feature 4 (MARRIAGE)\n",
    "\n",
    "sns.distplot(data['MARRIAGE'], kde=False)\n",
    "plt.ylabel('count')\n",
    "plt.title('distribution of marriage')\n",
    "plt.show()"
   ]
  },
  {
   "cell_type": "code",
   "execution_count": 251,
   "metadata": {},
   "outputs": [
    {
     "data": {
      "image/png": "[encoded data removed]",
      "text/plain": [
       "<Figure size 432x288 with 1 Axes>"
      ]
     },
     "metadata": {
      "needs_background": "light"
     },
     "output_type": "display_data"
    }
   ],
   "source": [
    "# Distribution analysis feature 5 (AGE)\n",
    "\n",
    "sns.boxplot(x = 'AGE', data=data)\n",
    "plt.title('distribution of age')\n",
    "plt.show()"
   ]
  },
  {
   "cell_type": "code",
   "execution_count": 252,
   "metadata": {},
   "outputs": [
    {
     "data": {
      "image/png": "[encoded data removed]",
      "text/plain": [
       "<Figure size 432x288 with 1 Axes>"
      ]
     },
     "metadata": {
      "needs_background": "light"
     },
     "output_type": "display_data"
    }
   ],
   "source": [
    "# Distribution analysis feature 6 (PAY_0)\n",
    "\n",
    "sns.distplot(data['PAY_0'], kde=False)\n",
    "plt.ylabel('count')\n",
    "plt.title('distribution of pay_0')\n",
    "plt.show()"
   ]
  },
  {
   "cell_type": "code",
   "execution_count": 253,
   "metadata": {},
   "outputs": [
    {
     "data": {
      "image/png": "[encoded data removed]",
      "text/plain": [
       "<Figure size 432x288 with 1 Axes>"
      ]
     },
     "metadata": {
      "needs_background": "light"
     },
     "output_type": "display_data"
    }
   ],
   "source": [
    "# Distribution analysis feature 7 (PAY_2)\n",
    "\n",
    "sns.distplot(data['PAY_2'], kde=False)\n",
    "plt.ylabel('count')\n",
    "plt.title('distribution of pay_1')\n",
    "plt.show()"
   ]
  },
  {
   "cell_type": "code",
   "execution_count": 254,
   "metadata": {},
   "outputs": [
    {
     "data": {
      "image/png": "[encoded data removed]",
      "text/plain": [
       "<Figure size 432x288 with 1 Axes>"
      ]
     },
     "metadata": {
      "needs_background": "light"
     },
     "output_type": "display_data"
    }
   ],
   "source": [
    "# Distribution analysis feature 8 (PAY_3)\n",
    "\n",
    "sns.distplot(data['PAY_3'], kde=False)\n",
    "plt.ylabel('count')\n",
    "plt.title('distribution of pay_3')\n",
    "plt.show()"
   ]
  },
  {
   "cell_type": "code",
   "execution_count": 255,
   "metadata": {},
   "outputs": [
    {
     "data": {
      "image/png": "[encoded data removed]",
      "text/plain": [
       "<Figure size 432x288 with 1 Axes>"
      ]
     },
     "metadata": {
      "needs_background": "light"
     },
     "output_type": "display_data"
    }
   ],
   "source": [
    "# Distribution analysis feature 9 (PAY_4)\n",
    "\n",
    "sns.distplot(data['PAY_4'], kde=False)\n",
    "plt.ylabel('count')\n",
    "plt.title('distribution of pay_4')\n",
    "plt.show()"
   ]
  },
  {
   "cell_type": "code",
   "execution_count": 256,
   "metadata": {},
   "outputs": [
    {
     "data": {
      "image/png": "[encoded data removed]",
      "text/plain": [
       "<Figure size 432x288 with 1 Axes>"
      ]
     },
     "metadata": {
      "needs_background": "light"
     },
     "output_type": "display_data"
    }
   ],
   "source": [
    "# Distribution analysis feature 10 (PAY_5)\n",
    "\n",
    "sns.distplot(data['PAY_5'], kde=False)\n",
    "plt.ylabel('count')\n",
    "plt.title('distribution of pay_5')\n",
    "plt.show()"
   ]
  },
  {
   "cell_type": "code",
   "execution_count": 257,
   "metadata": {},
   "outputs": [
    {
     "data": {
      "image/png": "[encoded data removed]",
      "text/plain": [
       "<Figure size 432x288 with 1 Axes>"
      ]
     },
     "metadata": {
      "needs_background": "light"
     },
     "output_type": "display_data"
    }
   ],
   "source": [
    "# Distribution analysis feature 11 (PAY_6)\n",
    "\n",
    "sns.distplot(data['PAY_6'], kde=False)\n",
    "plt.ylabel('count')\n",
    "plt.title('distribution of pay_6')\n",
    "plt.show()"
   ]
  },
  {
   "cell_type": "code",
   "execution_count": 258,
   "metadata": {},
   "outputs": [
    {
     "data": {
      "image/png": "[encoded data removed]",
      "text/plain": [
       "<Figure size 432x288 with 1 Axes>"
      ]
     },
     "metadata": {
      "needs_background": "light"
     },
     "output_type": "display_data"
    }
   ],
   "source": [
    "# Distribution analysis feature 12 (BILL_AMT1)\n",
    "\n",
    "sns.boxplot(x = 'BILL_AMT1', data=data)\n",
    "plt.title('Amount of bill statement in September, 2005 (NT dollar)')\n",
    "plt.show()"
   ]
  },
  {
   "cell_type": "code",
   "execution_count": 259,
   "metadata": {},
   "outputs": [
    {
     "data": {
      "image/png": "[encoded data removed]",
      "text/plain": [
       "<Figure size 432x288 with 1 Axes>"
      ]
     },
     "metadata": {
      "needs_background": "light"
     },
     "output_type": "display_data"
    }
   ],
   "source": [
    "# Distribution analysis feature 13 (BILL_AMT2)\n",
    "\n",
    "sns.boxplot(x = 'BILL_AMT2', data=data)\n",
    "plt.title('Amount of bill statement in August, 2005 (NT dollar)')\n",
    "plt.show()"
   ]
  },
  {
   "cell_type": "code",
   "execution_count": 260,
   "metadata": {},
   "outputs": [
    {
     "data": {
      "image/png": "[encoded data removed]",
      "text/plain": [
       "<Figure size 432x288 with 1 Axes>"
      ]
     },
     "metadata": {
      "needs_background": "light"
     },
     "output_type": "display_data"
    }
   ],
   "source": [
    "# Distribution analysis feature 14 (BILL_AMT3)\n",
    "\n",
    "sns.boxplot(x = 'BILL_AMT3', data=data)\n",
    "plt.title('Amount of bill statement in July, 2005 (NT dollar)')\n",
    "plt.show()"
   ]
  },
  {
   "cell_type": "code",
   "execution_count": 261,
   "metadata": {},
   "outputs": [
    {
     "data": {
      "image/png": "[encoded data removed]",
      "text/plain": [
       "<Figure size 432x288 with 1 Axes>"
      ]
     },
     "metadata": {
      "needs_background": "light"
     },
     "output_type": "display_data"
    }
   ],
   "source": [
    "# Distribution analysis feature 15 (BILL_AMT4)\n",
    "\n",
    "sns.boxplot(x = 'BILL_AMT4', data=data)\n",
    "plt.title('Amount of bill statement in June, 2005 (NT dollar)')\n",
    "plt.show()"
   ]
  },
  {
   "cell_type": "code",
   "execution_count": 262,
   "metadata": {},
   "outputs": [
    {
     "data": {
      "image/png": "[encoded data removed]",
      "text/plain": [
       "<Figure size 432x288 with 1 Axes>"
      ]
     },
     "metadata": {
      "needs_background": "light"
     },
     "output_type": "display_data"
    }
   ],
   "source": [
    "# Distribution analysis feature 16 (BILL_AMT5)\n",
    "\n",
    "sns.boxplot(x = 'BILL_AMT5', data=data)\n",
    "plt.title('Amount of bill statement in May, 2005 (NT dollar)')\n",
    "plt.show()"
   ]
  },
  {
   "cell_type": "code",
   "execution_count": 263,
   "metadata": {},
   "outputs": [
    {
     "data": {
      "image/png": "[encoded data removed]",
      "text/plain": [
       "<Figure size 432x288 with 1 Axes>"
      ]
     },
     "metadata": {
      "needs_background": "light"
     },
     "output_type": "display_data"
    }
   ],
   "source": [
    "# Distribution analysis feature 17 (BILL_AMT6)\n",
    "\n",
    "sns.boxplot(x = 'BILL_AMT6', data=data)\n",
    "plt.title('Amount of bill statement in April, 2005 (NT dollar)')\n",
    "plt.show()"
   ]
  },
  {
   "cell_type": "code",
   "execution_count": 264,
   "metadata": {},
   "outputs": [
    {
     "data": {
      "image/png": "[encoded data removed]",
      "text/plain": [
       "<Figure size 432x288 with 1 Axes>"
      ]
     },
     "metadata": {
      "needs_background": "light"
     },
     "output_type": "display_data"
    }
   ],
   "source": [
    "# Distribution analysis feature 18 (PAY_AMT1)\n",
    "\n",
    "sns.boxplot(x = 'PAY_AMT1', data=data)\n",
    "plt.title('Amount of previous payment in September, 2005 (NT dollar)')\n",
    "plt.show()"
   ]
  },
  {
   "cell_type": "code",
   "execution_count": 265,
   "metadata": {},
   "outputs": [
    {
     "data": {
      "image/png": "[encoded data removed]",
      "text/plain": [
       "<Figure size 432x288 with 1 Axes>"
      ]
     },
     "metadata": {
      "needs_background": "light"
     },
     "output_type": "display_data"
    }
   ],
   "source": [
    "# Distribution analysis feature 19 (PAY_AMT2)\n",
    "\n",
    "sns.boxplot(x = 'PAY_AMT2', data=data)\n",
    "plt.title('Amount of previous payment in August, 2005 (NT dollar)')\n",
    "plt.show()"
   ]
  },
  {
   "cell_type": "code",
   "execution_count": 266,
   "metadata": {},
   "outputs": [
    {
     "data": {
      "image/png": "[encoded data removed]",
      "text/plain": [
       "<Figure size 432x288 with 1 Axes>"
      ]
     },
     "metadata": {
      "needs_background": "light"
     },
     "output_type": "display_data"
    }
   ],
   "source": [
    "# Distribution analysis feature 20 (PAY_AMT3)\n",
    "\n",
    "sns.boxplot(x = 'PAY_AMT3', data=data)\n",
    "plt.title('Amount of previous payment in July, 2005 (NT dollar)')\n",
    "plt.show()"
   ]
  },
  {
   "cell_type": "code",
   "execution_count": 267,
   "metadata": {},
   "outputs": [
    {
     "data": {
      "image/png": "[encoded data removed]",
      "text/plain": [
       "<Figure size 432x288 with 1 Axes>"
      ]
     },
     "metadata": {
      "needs_background": "light"
     },
     "output_type": "display_data"
    }
   ],
   "source": [
    "# Distribution analysis feature 21 (PAY_AMT4)\n",
    "\n",
    "sns.boxplot(x = 'PAY_AMT4', data=data)\n",
    "plt.title('Amount of previous payment in June, 2005 (NT dollar)')\n",
    "plt.show()"
   ]
  },
  {
   "cell_type": "code",
   "execution_count": 268,
   "metadata": {},
   "outputs": [
    {
     "data": {
      "image/png": "[encoded data removed]",
      "text/plain": [
       "<Figure size 432x288 with 1 Axes>"
      ]
     },
     "metadata": {
      "needs_background": "light"
     },
     "output_type": "display_data"
    }
   ],
   "source": [
    "# Distribution analysis feature 22 (PAY_AMT5)\n",
    "\n",
    "sns.boxplot(x = 'PAY_AMT5', data=data)\n",
    "plt.title('Amount of previous payment in May, 2005 (NT dollar)')\n",
    "plt.show()"
   ]
  },
  {
   "cell_type": "code",
   "execution_count": 269,
   "metadata": {},
   "outputs": [
    {
     "data": {
      "image/png": "[encoded data removed]",
      "text/plain": [
       "<Figure size 432x288 with 1 Axes>"
      ]
     },
     "metadata": {
      "needs_background": "light"
     },
     "output_type": "display_data"
    }
   ],
   "source": [
    "# Distribution analysis feature 23 (PAY_AMT6)\n",
    "\n",
    "sns.boxplot(x = 'PAY_AMT6', data=data)\n",
    "plt.title('Amount of previous payment in April, 2005 (NT dollar)')\n",
    "plt.show()"
   ]
  },
  {
   "cell_type": "markdown",
   "metadata": {},
   "source": [
    "## Feature Selection & Engineering\n",
    "\n",
    "Based on \"Feature correlation analysis\" & \"Distribution analysis\" you can throw away some unnecessary features or even you want to keep all features. Please do some handling about feature selection (selecting necessary features) and state your reason for such handling.\n",
    "\n",
    "You can do feature engineering to make our dataset clearer such as dividing \"date\", \"month\", and \"year\" or you can add additional data from external source to help your analysis.\n",
    "\n",
    "<p style='color:red'><b>NB: You can make more than one combination dataset, but please separate them in different variable.</b></p>"
   ]
  },
  {
   "cell_type": "code",
   "execution_count": 270,
   "metadata": {},
   "outputs": [],
   "source": [
    "# Feature selection handling\n",
    "data = data.drop(['ID'], axis=1)"
   ]
  },
  {
   "cell_type": "code",
   "execution_count": 271,
   "metadata": {},
   "outputs": [],
   "source": [
    "data = data.reset_index(drop=True)"
   ]
  },
  {
   "cell_type": "code",
   "execution_count": 272,
   "metadata": {},
   "outputs": [
    {
     "data": {
      "text/html": [
       "<div>\n",
       "<style scoped>\n",
       "    .dataframe tbody tr th:only-of-type {\n",
       "        vertical-align: middle;\n",
       "    }\n",
       "\n",
       "    .dataframe tbody tr th {\n",
       "        vertical-align: top;\n",
       "    }\n",
       "\n",
       "    .dataframe thead th {\n",
       "        text-align: right;\n",
       "    }\n",
       "</style>\n",
       "<table border=\"1\" class=\"dataframe\">\n",
       "  <thead>\n",
       "    <tr style=\"text-align: right;\">\n",
       "      <th></th>\n",
       "      <th>LIMIT_BAL</th>\n",
       "      <th>SEX</th>\n",
       "      <th>EDUCATION</th>\n",
       "      <th>MARRIAGE</th>\n",
       "      <th>AGE</th>\n",
       "      <th>PAY_0</th>\n",
       "      <th>PAY_2</th>\n",
       "      <th>PAY_3</th>\n",
       "      <th>PAY_4</th>\n",
       "      <th>PAY_5</th>\n",
       "      <th>...</th>\n",
       "      <th>BILL_AMT4</th>\n",
       "      <th>BILL_AMT5</th>\n",
       "      <th>BILL_AMT6</th>\n",
       "      <th>PAY_AMT1</th>\n",
       "      <th>PAY_AMT2</th>\n",
       "      <th>PAY_AMT3</th>\n",
       "      <th>PAY_AMT4</th>\n",
       "      <th>PAY_AMT5</th>\n",
       "      <th>PAY_AMT6</th>\n",
       "      <th>default.payment.next.month</th>\n",
       "    </tr>\n",
       "  </thead>\n",
       "  <tbody>\n",
       "    <tr>\n",
       "      <th>0</th>\n",
       "      <td>20000.0</td>\n",
       "      <td>2</td>\n",
       "      <td>2</td>\n",
       "      <td>1</td>\n",
       "      <td>24</td>\n",
       "      <td>2</td>\n",
       "      <td>2</td>\n",
       "      <td>-1</td>\n",
       "      <td>-1</td>\n",
       "      <td>-2</td>\n",
       "      <td>...</td>\n",
       "      <td>0.0</td>\n",
       "      <td>0.0</td>\n",
       "      <td>0.0</td>\n",
       "      <td>0.0</td>\n",
       "      <td>689.0</td>\n",
       "      <td>0.0</td>\n",
       "      <td>0.0</td>\n",
       "      <td>0.0</td>\n",
       "      <td>0.0</td>\n",
       "      <td>1</td>\n",
       "    </tr>\n",
       "    <tr>\n",
       "      <th>1</th>\n",
       "      <td>120000.0</td>\n",
       "      <td>2</td>\n",
       "      <td>2</td>\n",
       "      <td>2</td>\n",
       "      <td>26</td>\n",
       "      <td>-1</td>\n",
       "      <td>2</td>\n",
       "      <td>0</td>\n",
       "      <td>0</td>\n",
       "      <td>0</td>\n",
       "      <td>...</td>\n",
       "      <td>3272.0</td>\n",
       "      <td>3455.0</td>\n",
       "      <td>3261.0</td>\n",
       "      <td>0.0</td>\n",
       "      <td>1000.0</td>\n",
       "      <td>1000.0</td>\n",
       "      <td>1000.0</td>\n",
       "      <td>0.0</td>\n",
       "      <td>2000.0</td>\n",
       "      <td>1</td>\n",
       "    </tr>\n",
       "    <tr>\n",
       "      <th>2</th>\n",
       "      <td>50000.0</td>\n",
       "      <td>2</td>\n",
       "      <td>2</td>\n",
       "      <td>1</td>\n",
       "      <td>37</td>\n",
       "      <td>0</td>\n",
       "      <td>0</td>\n",
       "      <td>0</td>\n",
       "      <td>0</td>\n",
       "      <td>0</td>\n",
       "      <td>...</td>\n",
       "      <td>28314.0</td>\n",
       "      <td>28959.0</td>\n",
       "      <td>29547.0</td>\n",
       "      <td>2000.0</td>\n",
       "      <td>2019.0</td>\n",
       "      <td>1200.0</td>\n",
       "      <td>1100.0</td>\n",
       "      <td>1069.0</td>\n",
       "      <td>1000.0</td>\n",
       "      <td>0</td>\n",
       "    </tr>\n",
       "    <tr>\n",
       "      <th>3</th>\n",
       "      <td>100000.0</td>\n",
       "      <td>2</td>\n",
       "      <td>2</td>\n",
       "      <td>2</td>\n",
       "      <td>23</td>\n",
       "      <td>0</td>\n",
       "      <td>-1</td>\n",
       "      <td>-1</td>\n",
       "      <td>0</td>\n",
       "      <td>0</td>\n",
       "      <td>...</td>\n",
       "      <td>221.0</td>\n",
       "      <td>-159.0</td>\n",
       "      <td>567.0</td>\n",
       "      <td>380.0</td>\n",
       "      <td>601.0</td>\n",
       "      <td>0.0</td>\n",
       "      <td>581.0</td>\n",
       "      <td>1687.0</td>\n",
       "      <td>1542.0</td>\n",
       "      <td>0</td>\n",
       "    </tr>\n",
       "    <tr>\n",
       "      <th>4</th>\n",
       "      <td>140000.0</td>\n",
       "      <td>2</td>\n",
       "      <td>3</td>\n",
       "      <td>1</td>\n",
       "      <td>28</td>\n",
       "      <td>0</td>\n",
       "      <td>0</td>\n",
       "      <td>2</td>\n",
       "      <td>0</td>\n",
       "      <td>0</td>\n",
       "      <td>...</td>\n",
       "      <td>12211.0</td>\n",
       "      <td>11793.0</td>\n",
       "      <td>3719.0</td>\n",
       "      <td>3329.0</td>\n",
       "      <td>0.0</td>\n",
       "      <td>432.0</td>\n",
       "      <td>1000.0</td>\n",
       "      <td>1000.0</td>\n",
       "      <td>1000.0</td>\n",
       "      <td>0</td>\n",
       "    </tr>\n",
       "  </tbody>\n",
       "</table>\n",
       "<p>5 rows × 24 columns</p>\n",
       "</div>"
      ],
      "text/plain": [
       "   LIMIT_BAL  SEX  EDUCATION  MARRIAGE  AGE  PAY_0  PAY_2  PAY_3  PAY_4  \\\n",
       "0    20000.0    2          2         1   24      2      2     -1     -1   \n",
       "1   120000.0    2          2         2   26     -1      2      0      0   \n",
       "2    50000.0    2          2         1   37      0      0      0      0   \n",
       "3   100000.0    2          2         2   23      0     -1     -1      0   \n",
       "4   140000.0    2          3         1   28      0      0      2      0   \n",
       "\n",
       "   PAY_5  ...  BILL_AMT4  BILL_AMT5  BILL_AMT6  PAY_AMT1  PAY_AMT2  PAY_AMT3  \\\n",
       "0     -2  ...        0.0        0.0        0.0       0.0     689.0       0.0   \n",
       "1      0  ...     3272.0     3455.0     3261.0       0.0    1000.0    1000.0   \n",
       "2      0  ...    28314.0    28959.0    29547.0    2000.0    2019.0    1200.0   \n",
       "3      0  ...      221.0     -159.0      567.0     380.0     601.0       0.0   \n",
       "4      0  ...    12211.0    11793.0     3719.0    3329.0       0.0     432.0   \n",
       "\n",
       "   PAY_AMT4  PAY_AMT5  PAY_AMT6  default.payment.next.month  \n",
       "0       0.0       0.0       0.0                           1  \n",
       "1    1000.0       0.0    2000.0                           1  \n",
       "2    1100.0    1069.0    1000.0                           0  \n",
       "3     581.0    1687.0    1542.0                           0  \n",
       "4    1000.0    1000.0    1000.0                           0  \n",
       "\n",
       "[5 rows x 24 columns]"
      ]
     },
     "execution_count": 272,
     "metadata": {},
     "output_type": "execute_result"
    }
   ],
   "source": [
    "data.head()"
   ]
  },
  {
   "cell_type": "code",
   "execution_count": null,
   "metadata": {},
   "outputs": [],
   "source": [
    "# Feature engineering handling"
   ]
  },
  {
   "cell_type": "markdown",
   "metadata": {},
   "source": [
    "<hr>"
   ]
  },
  {
   "cell_type": "markdown",
   "metadata": {},
   "source": [
    "# Data Preprocessing"
   ]
  },
  {
   "cell_type": "markdown",
   "metadata": {},
   "source": [
    "## Categorical data, numerical data, and target data separation\n",
    "\n",
    "Please separate categorical data, numerical data, and target data into different variable to make us easier when do preprocessing."
   ]
  },
  {
   "cell_type": "code",
   "execution_count": 273,
   "metadata": {},
   "outputs": [
    {
     "name": "stdout",
     "output_type": "stream",
     "text": [
      "<class 'pandas.core.frame.DataFrame'>\n",
      "RangeIndex: 9060 entries, 0 to 9059\n",
      "Data columns (total 24 columns):\n",
      "LIMIT_BAL                     9060 non-null float64\n",
      "SEX                           9060 non-null int64\n",
      "EDUCATION                     9060 non-null int64\n",
      "MARRIAGE                      9060 non-null int64\n",
      "AGE                           9060 non-null int64\n",
      "PAY_0                         9060 non-null int64\n",
      "PAY_2                         9060 non-null int64\n",
      "PAY_3                         9060 non-null int64\n",
      "PAY_4                         9060 non-null int64\n",
      "PAY_5                         9060 non-null int64\n",
      "PAY_6                         9060 non-null int64\n",
      "BILL_AMT1                     9060 non-null float64\n",
      "BILL_AMT2                     9060 non-null float64\n",
      "BILL_AMT3                     9060 non-null float64\n",
      "BILL_AMT4                     9060 non-null float64\n",
      "BILL_AMT5                     9060 non-null float64\n",
      "BILL_AMT6                     9060 non-null float64\n",
      "PAY_AMT1                      9060 non-null float64\n",
      "PAY_AMT2                      9060 non-null float64\n",
      "PAY_AMT3                      9060 non-null float64\n",
      "PAY_AMT4                      9060 non-null float64\n",
      "PAY_AMT5                      9060 non-null float64\n",
      "PAY_AMT6                      9060 non-null float64\n",
      "default.payment.next.month    9060 non-null int64\n",
      "dtypes: float64(13), int64(11)\n",
      "memory usage: 1.7 MB\n"
     ]
    }
   ],
   "source": [
    "data.info()"
   ]
  },
  {
   "cell_type": "code",
   "execution_count": 274,
   "metadata": {},
   "outputs": [],
   "source": [
    "data_cat = data[['SEX','EDUCATION','MARRIAGE','PAY_0','PAY_2','PAY_3','PAY_4','PAY_5','PAY_6']].copy()\n",
    "data_num = data[['LIMIT_BAL','AGE','BILL_AMT1','BILL_AMT2','BILL_AMT3','BILL_AMT4','BILL_AMT5','BILL_AMT6','PAY_AMT1','PAY_AMT2','PAY_AMT3','PAY_AMT4','PAY_AMT5','PAY_AMT6']].copy()"
   ]
  },
  {
   "cell_type": "markdown",
   "metadata": {},
   "source": [
    "## Numerical data normalization\n",
    "\n",
    "Please normalize our numerical data (if existed) using either \"Standard Scaling\" or \"Min Max Scaling\". You can make a new combination dataset by using both method."
   ]
  },
  {
   "cell_type": "code",
   "execution_count": 275,
   "metadata": {},
   "outputs": [],
   "source": [
    "from sklearn.preprocessing import MinMaxScaler"
   ]
  },
  {
   "cell_type": "code",
   "execution_count": 276,
   "metadata": {},
   "outputs": [],
   "source": [
    "scaler = MinMaxScaler()"
   ]
  },
  {
   "cell_type": "code",
   "execution_count": 277,
   "metadata": {},
   "outputs": [
    {
     "data": {
      "text/plain": [
       "array([[0.02941176, 0.06976744, 0.13660829, ..., 0.        , 0.        ,\n",
       "        0.        ],\n",
       "       [0.32352941, 0.11627907, 0.11751384, ..., 0.40032026, 0.        ,\n",
       "        0.80128205],\n",
       "       [0.11764706, 0.37209302, 0.8047899 , ..., 0.44035228, 0.42880064,\n",
       "        0.40064103],\n",
       "       ...,\n",
       "       [0.58823529, 0.30232558, 0.11469078, ..., 0.        , 0.        ,\n",
       "        0.        ],\n",
       "       [0.        , 0.51162791, 0.21244319, ..., 0.        , 0.        ,\n",
       "        0.        ],\n",
       "       [0.11764706, 0.58139535, 0.81935504, ..., 0.40032026, 0.40112314,\n",
       "        0.40064103]])"
      ]
     },
     "execution_count": 277,
     "metadata": {},
     "output_type": "execute_result"
    }
   ],
   "source": [
    "data_s = scaler.fit_transform(data_num)\n",
    "data_s"
   ]
  },
  {
   "cell_type": "code",
   "execution_count": 278,
   "metadata": {},
   "outputs": [
    {
     "data": {
      "text/html": [
       "<div>\n",
       "<style scoped>\n",
       "    .dataframe tbody tr th:only-of-type {\n",
       "        vertical-align: middle;\n",
       "    }\n",
       "\n",
       "    .dataframe tbody tr th {\n",
       "        vertical-align: top;\n",
       "    }\n",
       "\n",
       "    .dataframe thead th {\n",
       "        text-align: right;\n",
       "    }\n",
       "</style>\n",
       "<table border=\"1\" class=\"dataframe\">\n",
       "  <thead>\n",
       "    <tr style=\"text-align: right;\">\n",
       "      <th></th>\n",
       "      <th>LIMIT_BAL</th>\n",
       "      <th>AGE</th>\n",
       "      <th>BILL_AMT1</th>\n",
       "      <th>BILL_AMT2</th>\n",
       "      <th>BILL_AMT3</th>\n",
       "      <th>BILL_AMT4</th>\n",
       "      <th>BILL_AMT5</th>\n",
       "      <th>BILL_AMT6</th>\n",
       "      <th>PAY_AMT1</th>\n",
       "      <th>PAY_AMT2</th>\n",
       "      <th>PAY_AMT3</th>\n",
       "      <th>PAY_AMT4</th>\n",
       "      <th>PAY_AMT5</th>\n",
       "      <th>PAY_AMT6</th>\n",
       "    </tr>\n",
       "  </thead>\n",
       "  <tbody>\n",
       "    <tr>\n",
       "      <th>0</th>\n",
       "      <td>0.029412</td>\n",
       "      <td>0.069767</td>\n",
       "      <td>0.136608</td>\n",
       "      <td>0.136626</td>\n",
       "      <td>0.236280</td>\n",
       "      <td>0.236384</td>\n",
       "      <td>0.240500</td>\n",
       "      <td>0.244351</td>\n",
       "      <td>0.000000</td>\n",
       "      <td>0.162961</td>\n",
       "      <td>0.000000</td>\n",
       "      <td>0.000000</td>\n",
       "      <td>0.000000</td>\n",
       "      <td>0.000000</td>\n",
       "    </tr>\n",
       "    <tr>\n",
       "      <th>1</th>\n",
       "      <td>0.323529</td>\n",
       "      <td>0.116279</td>\n",
       "      <td>0.117514</td>\n",
       "      <td>0.113894</td>\n",
       "      <td>0.266295</td>\n",
       "      <td>0.287948</td>\n",
       "      <td>0.295895</td>\n",
       "      <td>0.297473</td>\n",
       "      <td>0.000000</td>\n",
       "      <td>0.236518</td>\n",
       "      <td>0.308071</td>\n",
       "      <td>0.400320</td>\n",
       "      <td>0.000000</td>\n",
       "      <td>0.801282</td>\n",
       "    </tr>\n",
       "    <tr>\n",
       "      <th>2</th>\n",
       "      <td>0.117647</td>\n",
       "      <td>0.372093</td>\n",
       "      <td>0.804790</td>\n",
       "      <td>0.881682</td>\n",
       "      <td>0.968238</td>\n",
       "      <td>0.682583</td>\n",
       "      <td>0.704810</td>\n",
       "      <td>0.725675</td>\n",
       "      <td>0.443853</td>\n",
       "      <td>0.477531</td>\n",
       "      <td>0.369686</td>\n",
       "      <td>0.440352</td>\n",
       "      <td>0.428801</td>\n",
       "      <td>0.400641</td>\n",
       "    </tr>\n",
       "    <tr>\n",
       "      <th>3</th>\n",
       "      <td>0.264706</td>\n",
       "      <td>0.046512</td>\n",
       "      <td>0.260125</td>\n",
       "      <td>0.091690</td>\n",
       "      <td>0.234955</td>\n",
       "      <td>0.239867</td>\n",
       "      <td>0.237951</td>\n",
       "      <td>0.253588</td>\n",
       "      <td>0.084332</td>\n",
       "      <td>0.142148</td>\n",
       "      <td>0.000000</td>\n",
       "      <td>0.232586</td>\n",
       "      <td>0.676695</td>\n",
       "      <td>0.617788</td>\n",
       "    </tr>\n",
       "    <tr>\n",
       "      <th>4</th>\n",
       "      <td>0.382353</td>\n",
       "      <td>0.162791</td>\n",
       "      <td>0.250958</td>\n",
       "      <td>0.318123</td>\n",
       "      <td>0.408253</td>\n",
       "      <td>0.428817</td>\n",
       "      <td>0.429582</td>\n",
       "      <td>0.304934</td>\n",
       "      <td>0.738793</td>\n",
       "      <td>0.000000</td>\n",
       "      <td>0.133087</td>\n",
       "      <td>0.400320</td>\n",
       "      <td>0.401123</td>\n",
       "      <td>0.400641</td>\n",
       "    </tr>\n",
       "  </tbody>\n",
       "</table>\n",
       "</div>"
      ],
      "text/plain": [
       "   LIMIT_BAL       AGE  BILL_AMT1  BILL_AMT2  BILL_AMT3  BILL_AMT4  BILL_AMT5  \\\n",
       "0   0.029412  0.069767   0.136608   0.136626   0.236280   0.236384   0.240500   \n",
       "1   0.323529  0.116279   0.117514   0.113894   0.266295   0.287948   0.295895   \n",
       "2   0.117647  0.372093   0.804790   0.881682   0.968238   0.682583   0.704810   \n",
       "3   0.264706  0.046512   0.260125   0.091690   0.234955   0.239867   0.237951   \n",
       "4   0.382353  0.162791   0.250958   0.318123   0.408253   0.428817   0.429582   \n",
       "\n",
       "   BILL_AMT6  PAY_AMT1  PAY_AMT2  PAY_AMT3  PAY_AMT4  PAY_AMT5  PAY_AMT6  \n",
       "0   0.244351  0.000000  0.162961  0.000000  0.000000  0.000000  0.000000  \n",
       "1   0.297473  0.000000  0.236518  0.308071  0.400320  0.000000  0.801282  \n",
       "2   0.725675  0.443853  0.477531  0.369686  0.440352  0.428801  0.400641  \n",
       "3   0.253588  0.084332  0.142148  0.000000  0.232586  0.676695  0.617788  \n",
       "4   0.304934  0.738793  0.000000  0.133087  0.400320  0.401123  0.400641  "
      ]
     },
     "execution_count": 278,
     "metadata": {},
     "output_type": "execute_result"
    }
   ],
   "source": [
    "data_s = pd.DataFrame(data_s, columns=['LIMIT_BAL','AGE','BILL_AMT1','BILL_AMT2','BILL_AMT3','BILL_AMT4','BILL_AMT5','BILL_AMT6','PAY_AMT1','PAY_AMT2','PAY_AMT3','PAY_AMT4','PAY_AMT5','PAY_AMT6'])\n",
    "data_s.head()"
   ]
  },
  {
   "cell_type": "markdown",
   "metadata": {},
   "source": [
    "## Categorical data encoding\n",
    "\n",
    "Please encode our categorical data (if existed) using either \"One Hot Encoding\" or \"Label Encoding\" based on each data characteristics."
   ]
  },
  {
   "cell_type": "code",
   "execution_count": 279,
   "metadata": {},
   "outputs": [],
   "source": [
    "# label encoder\n",
    "from sklearn.preprocessing import LabelEncoder"
   ]
  },
  {
   "cell_type": "code",
   "execution_count": 280,
   "metadata": {},
   "outputs": [],
   "source": [
    "encoder = LabelEncoder()"
   ]
  },
  {
   "cell_type": "code",
   "execution_count": 288,
   "metadata": {},
   "outputs": [
    {
     "name": "stdout",
     "output_type": "stream",
     "text": [
      "0\n",
      "1\n",
      "2\n",
      "3\n",
      "4\n",
      "5\n",
      "6\n",
      "7\n",
      "8\n"
     ]
    }
   ],
   "source": [
    "length = data_cat.shape[1] #mengambil jumlah kolom\n",
    "col = data_cat.columns\n",
    "for i in range (length):\n",
    "    print(i)\n",
    "    a = encoder.fit_transform(data_cat.iloc[:,i:i+1])\n",
    "    a = pd.DataFrame(a, columns=[col[i]+'new'])\n",
    "    data_cat = data_cat.join(a)"
   ]
  },
  {
   "cell_type": "code",
   "execution_count": 290,
   "metadata": {},
   "outputs": [],
   "source": [
    "data_cat = data_cat.iloc[:,9:].copy()"
   ]
  },
  {
   "cell_type": "code",
   "execution_count": 291,
   "metadata": {},
   "outputs": [
    {
     "data": {
      "text/html": [
       "<div>\n",
       "<style scoped>\n",
       "    .dataframe tbody tr th:only-of-type {\n",
       "        vertical-align: middle;\n",
       "    }\n",
       "\n",
       "    .dataframe tbody tr th {\n",
       "        vertical-align: top;\n",
       "    }\n",
       "\n",
       "    .dataframe thead th {\n",
       "        text-align: right;\n",
       "    }\n",
       "</style>\n",
       "<table border=\"1\" class=\"dataframe\">\n",
       "  <thead>\n",
       "    <tr style=\"text-align: right;\">\n",
       "      <th></th>\n",
       "      <th>SEXnew</th>\n",
       "      <th>EDUCATIONnew</th>\n",
       "      <th>MARRIAGEnew</th>\n",
       "      <th>PAY_0new</th>\n",
       "      <th>PAY_2new</th>\n",
       "      <th>PAY_3new</th>\n",
       "      <th>PAY_4new</th>\n",
       "      <th>PAY_5new</th>\n",
       "      <th>PAY_6new</th>\n",
       "    </tr>\n",
       "  </thead>\n",
       "  <tbody>\n",
       "    <tr>\n",
       "      <th>0</th>\n",
       "      <td>1</td>\n",
       "      <td>2</td>\n",
       "      <td>1</td>\n",
       "      <td>4</td>\n",
       "      <td>4</td>\n",
       "      <td>1</td>\n",
       "      <td>1</td>\n",
       "      <td>0</td>\n",
       "      <td>0</td>\n",
       "    </tr>\n",
       "    <tr>\n",
       "      <th>1</th>\n",
       "      <td>1</td>\n",
       "      <td>2</td>\n",
       "      <td>2</td>\n",
       "      <td>1</td>\n",
       "      <td>4</td>\n",
       "      <td>2</td>\n",
       "      <td>2</td>\n",
       "      <td>2</td>\n",
       "      <td>3</td>\n",
       "    </tr>\n",
       "    <tr>\n",
       "      <th>2</th>\n",
       "      <td>1</td>\n",
       "      <td>2</td>\n",
       "      <td>1</td>\n",
       "      <td>2</td>\n",
       "      <td>2</td>\n",
       "      <td>2</td>\n",
       "      <td>2</td>\n",
       "      <td>2</td>\n",
       "      <td>2</td>\n",
       "    </tr>\n",
       "    <tr>\n",
       "      <th>3</th>\n",
       "      <td>1</td>\n",
       "      <td>2</td>\n",
       "      <td>2</td>\n",
       "      <td>2</td>\n",
       "      <td>1</td>\n",
       "      <td>1</td>\n",
       "      <td>2</td>\n",
       "      <td>2</td>\n",
       "      <td>1</td>\n",
       "    </tr>\n",
       "    <tr>\n",
       "      <th>4</th>\n",
       "      <td>1</td>\n",
       "      <td>3</td>\n",
       "      <td>1</td>\n",
       "      <td>2</td>\n",
       "      <td>2</td>\n",
       "      <td>3</td>\n",
       "      <td>2</td>\n",
       "      <td>2</td>\n",
       "      <td>2</td>\n",
       "    </tr>\n",
       "  </tbody>\n",
       "</table>\n",
       "</div>"
      ],
      "text/plain": [
       "   SEXnew  EDUCATIONnew  MARRIAGEnew  PAY_0new  PAY_2new  PAY_3new  PAY_4new  \\\n",
       "0       1             2            1         4         4         1         1   \n",
       "1       1             2            2         1         4         2         2   \n",
       "2       1             2            1         2         2         2         2   \n",
       "3       1             2            2         2         1         1         2   \n",
       "4       1             3            1         2         2         3         2   \n",
       "\n",
       "   PAY_5new  PAY_6new  \n",
       "0         0         0  \n",
       "1         2         3  \n",
       "2         2         2  \n",
       "3         2         1  \n",
       "4         2         2  "
      ]
     },
     "execution_count": 291,
     "metadata": {},
     "output_type": "execute_result"
    }
   ],
   "source": [
    "data_cat.head()"
   ]
  },
  {
   "cell_type": "markdown",
   "metadata": {},
   "source": [
    "## Target data preprocessing\n",
    "\n",
    "Please preprocess our target data based on whether our target data is numerical or categorical. But if it's categorical, you can label encode it since some machine learning algorithm only receive output data in label encoded form."
   ]
  },
  {
   "cell_type": "code",
   "execution_count": 292,
   "metadata": {},
   "outputs": [],
   "source": [
    "data_target = data[['default.payment.next.month']]"
   ]
  },
  {
   "cell_type": "code",
   "execution_count": 293,
   "metadata": {},
   "outputs": [],
   "source": [
    "encoder2 = LabelEncoder()"
   ]
  },
  {
   "cell_type": "code",
   "execution_count": 298,
   "metadata": {},
   "outputs": [],
   "source": [
    "data_target = encoder2.fit_transform(data_target['default.payment.next.month'])"
   ]
  },
  {
   "cell_type": "code",
   "execution_count": 299,
   "metadata": {},
   "outputs": [
    {
     "data": {
      "text/html": [
       "<div>\n",
       "<style scoped>\n",
       "    .dataframe tbody tr th:only-of-type {\n",
       "        vertical-align: middle;\n",
       "    }\n",
       "\n",
       "    .dataframe tbody tr th {\n",
       "        vertical-align: top;\n",
       "    }\n",
       "\n",
       "    .dataframe thead th {\n",
       "        text-align: right;\n",
       "    }\n",
       "</style>\n",
       "<table border=\"1\" class=\"dataframe\">\n",
       "  <thead>\n",
       "    <tr style=\"text-align: right;\">\n",
       "      <th></th>\n",
       "      <th>default.payment.next.month</th>\n",
       "    </tr>\n",
       "  </thead>\n",
       "  <tbody>\n",
       "    <tr>\n",
       "      <th>0</th>\n",
       "      <td>1</td>\n",
       "    </tr>\n",
       "    <tr>\n",
       "      <th>1</th>\n",
       "      <td>1</td>\n",
       "    </tr>\n",
       "    <tr>\n",
       "      <th>2</th>\n",
       "      <td>0</td>\n",
       "    </tr>\n",
       "    <tr>\n",
       "      <th>3</th>\n",
       "      <td>0</td>\n",
       "    </tr>\n",
       "    <tr>\n",
       "      <th>4</th>\n",
       "      <td>0</td>\n",
       "    </tr>\n",
       "  </tbody>\n",
       "</table>\n",
       "</div>"
      ],
      "text/plain": [
       "   default.payment.next.month\n",
       "0                           1\n",
       "1                           1\n",
       "2                           0\n",
       "3                           0\n",
       "4                           0"
      ]
     },
     "execution_count": 299,
     "metadata": {},
     "output_type": "execute_result"
    }
   ],
   "source": [
    "data_target = pd.DataFrame({'default.payment.next.month':data_target})\n",
    "data_target.head()"
   ]
  },
  {
   "cell_type": "markdown",
   "metadata": {},
   "source": [
    "## Combine all preprocessed data\n",
    "\n",
    "Please combine preprocessed numerical data, preprocessed categorical data, and preprocessed target data into one variable. Don't forget to combine in different variable if you have more than one combination."
   ]
  },
  {
   "cell_type": "code",
   "execution_count": 300,
   "metadata": {},
   "outputs": [
    {
     "data": {
      "text/html": [
       "<div>\n",
       "<style scoped>\n",
       "    .dataframe tbody tr th:only-of-type {\n",
       "        vertical-align: middle;\n",
       "    }\n",
       "\n",
       "    .dataframe tbody tr th {\n",
       "        vertical-align: top;\n",
       "    }\n",
       "\n",
       "    .dataframe thead th {\n",
       "        text-align: right;\n",
       "    }\n",
       "</style>\n",
       "<table border=\"1\" class=\"dataframe\">\n",
       "  <thead>\n",
       "    <tr style=\"text-align: right;\">\n",
       "      <th></th>\n",
       "      <th>LIMIT_BAL</th>\n",
       "      <th>AGE</th>\n",
       "      <th>BILL_AMT1</th>\n",
       "      <th>BILL_AMT2</th>\n",
       "      <th>BILL_AMT3</th>\n",
       "      <th>BILL_AMT4</th>\n",
       "      <th>BILL_AMT5</th>\n",
       "      <th>BILL_AMT6</th>\n",
       "      <th>PAY_AMT1</th>\n",
       "      <th>PAY_AMT2</th>\n",
       "      <th>...</th>\n",
       "      <th>SEXnew</th>\n",
       "      <th>EDUCATIONnew</th>\n",
       "      <th>MARRIAGEnew</th>\n",
       "      <th>PAY_0new</th>\n",
       "      <th>PAY_2new</th>\n",
       "      <th>PAY_3new</th>\n",
       "      <th>PAY_4new</th>\n",
       "      <th>PAY_5new</th>\n",
       "      <th>PAY_6new</th>\n",
       "      <th>default.payment.next.month</th>\n",
       "    </tr>\n",
       "  </thead>\n",
       "  <tbody>\n",
       "    <tr>\n",
       "      <th>0</th>\n",
       "      <td>0.029412</td>\n",
       "      <td>0.069767</td>\n",
       "      <td>0.136608</td>\n",
       "      <td>0.136626</td>\n",
       "      <td>0.236280</td>\n",
       "      <td>0.236384</td>\n",
       "      <td>0.240500</td>\n",
       "      <td>0.244351</td>\n",
       "      <td>0.000000</td>\n",
       "      <td>0.162961</td>\n",
       "      <td>...</td>\n",
       "      <td>1</td>\n",
       "      <td>2</td>\n",
       "      <td>1</td>\n",
       "      <td>4</td>\n",
       "      <td>4</td>\n",
       "      <td>1</td>\n",
       "      <td>1</td>\n",
       "      <td>0</td>\n",
       "      <td>0</td>\n",
       "      <td>1</td>\n",
       "    </tr>\n",
       "    <tr>\n",
       "      <th>1</th>\n",
       "      <td>0.323529</td>\n",
       "      <td>0.116279</td>\n",
       "      <td>0.117514</td>\n",
       "      <td>0.113894</td>\n",
       "      <td>0.266295</td>\n",
       "      <td>0.287948</td>\n",
       "      <td>0.295895</td>\n",
       "      <td>0.297473</td>\n",
       "      <td>0.000000</td>\n",
       "      <td>0.236518</td>\n",
       "      <td>...</td>\n",
       "      <td>1</td>\n",
       "      <td>2</td>\n",
       "      <td>2</td>\n",
       "      <td>1</td>\n",
       "      <td>4</td>\n",
       "      <td>2</td>\n",
       "      <td>2</td>\n",
       "      <td>2</td>\n",
       "      <td>3</td>\n",
       "      <td>1</td>\n",
       "    </tr>\n",
       "    <tr>\n",
       "      <th>2</th>\n",
       "      <td>0.117647</td>\n",
       "      <td>0.372093</td>\n",
       "      <td>0.804790</td>\n",
       "      <td>0.881682</td>\n",
       "      <td>0.968238</td>\n",
       "      <td>0.682583</td>\n",
       "      <td>0.704810</td>\n",
       "      <td>0.725675</td>\n",
       "      <td>0.443853</td>\n",
       "      <td>0.477531</td>\n",
       "      <td>...</td>\n",
       "      <td>1</td>\n",
       "      <td>2</td>\n",
       "      <td>1</td>\n",
       "      <td>2</td>\n",
       "      <td>2</td>\n",
       "      <td>2</td>\n",
       "      <td>2</td>\n",
       "      <td>2</td>\n",
       "      <td>2</td>\n",
       "      <td>0</td>\n",
       "    </tr>\n",
       "    <tr>\n",
       "      <th>3</th>\n",
       "      <td>0.264706</td>\n",
       "      <td>0.046512</td>\n",
       "      <td>0.260125</td>\n",
       "      <td>0.091690</td>\n",
       "      <td>0.234955</td>\n",
       "      <td>0.239867</td>\n",
       "      <td>0.237951</td>\n",
       "      <td>0.253588</td>\n",
       "      <td>0.084332</td>\n",
       "      <td>0.142148</td>\n",
       "      <td>...</td>\n",
       "      <td>1</td>\n",
       "      <td>2</td>\n",
       "      <td>2</td>\n",
       "      <td>2</td>\n",
       "      <td>1</td>\n",
       "      <td>1</td>\n",
       "      <td>2</td>\n",
       "      <td>2</td>\n",
       "      <td>1</td>\n",
       "      <td>0</td>\n",
       "    </tr>\n",
       "    <tr>\n",
       "      <th>4</th>\n",
       "      <td>0.382353</td>\n",
       "      <td>0.162791</td>\n",
       "      <td>0.250958</td>\n",
       "      <td>0.318123</td>\n",
       "      <td>0.408253</td>\n",
       "      <td>0.428817</td>\n",
       "      <td>0.429582</td>\n",
       "      <td>0.304934</td>\n",
       "      <td>0.738793</td>\n",
       "      <td>0.000000</td>\n",
       "      <td>...</td>\n",
       "      <td>1</td>\n",
       "      <td>3</td>\n",
       "      <td>1</td>\n",
       "      <td>2</td>\n",
       "      <td>2</td>\n",
       "      <td>3</td>\n",
       "      <td>2</td>\n",
       "      <td>2</td>\n",
       "      <td>2</td>\n",
       "      <td>0</td>\n",
       "    </tr>\n",
       "  </tbody>\n",
       "</table>\n",
       "<p>5 rows × 24 columns</p>\n",
       "</div>"
      ],
      "text/plain": [
       "   LIMIT_BAL       AGE  BILL_AMT1  BILL_AMT2  BILL_AMT3  BILL_AMT4  BILL_AMT5  \\\n",
       "0   0.029412  0.069767   0.136608   0.136626   0.236280   0.236384   0.240500   \n",
       "1   0.323529  0.116279   0.117514   0.113894   0.266295   0.287948   0.295895   \n",
       "2   0.117647  0.372093   0.804790   0.881682   0.968238   0.682583   0.704810   \n",
       "3   0.264706  0.046512   0.260125   0.091690   0.234955   0.239867   0.237951   \n",
       "4   0.382353  0.162791   0.250958   0.318123   0.408253   0.428817   0.429582   \n",
       "\n",
       "   BILL_AMT6  PAY_AMT1  PAY_AMT2  ...  SEXnew  EDUCATIONnew  MARRIAGEnew  \\\n",
       "0   0.244351  0.000000  0.162961  ...       1             2            1   \n",
       "1   0.297473  0.000000  0.236518  ...       1             2            2   \n",
       "2   0.725675  0.443853  0.477531  ...       1             2            1   \n",
       "3   0.253588  0.084332  0.142148  ...       1             2            2   \n",
       "4   0.304934  0.738793  0.000000  ...       1             3            1   \n",
       "\n",
       "   PAY_0new  PAY_2new  PAY_3new  PAY_4new  PAY_5new  PAY_6new  \\\n",
       "0         4         4         1         1         0         0   \n",
       "1         1         4         2         2         2         3   \n",
       "2         2         2         2         2         2         2   \n",
       "3         2         1         1         2         2         1   \n",
       "4         2         2         3         2         2         2   \n",
       "\n",
       "   default.payment.next.month  \n",
       "0                           1  \n",
       "1                           1  \n",
       "2                           0  \n",
       "3                           0  \n",
       "4                           0  \n",
       "\n",
       "[5 rows x 24 columns]"
      ]
     },
     "execution_count": 300,
     "metadata": {},
     "output_type": "execute_result"
    }
   ],
   "source": [
    "data_fix = data_s.join(data_cat).join(data_target)\n",
    "data_fix.head()"
   ]
  },
  {
   "cell_type": "markdown",
   "metadata": {},
   "source": [
    "<hr>"
   ]
  },
  {
   "cell_type": "markdown",
   "metadata": {},
   "source": [
    "# Additional Analysis & Preprocessing (optional)\n",
    "\n",
    "Please do share your method if you have additional analysis or preprocessing that was out of topics but still related to our dataset. This section and add additional point for this case."
   ]
  },
  {
   "cell_type": "code",
   "execution_count": null,
   "metadata": {},
   "outputs": [],
   "source": []
  },
  {
   "cell_type": "markdown",
   "metadata": {},
   "source": [
    "<hr>"
   ]
  },
  {
   "cell_type": "markdown",
   "metadata": {},
   "source": [
    "# Train Test Split\n",
    "\n",
    "Please split our dataset into training data and testing data. Do not seperate features data (X) and target data (y) since we will export them after this section.\n",
    "\n",
    "Please split all other datasets if you have more than one dataset combination."
   ]
  },
  {
   "cell_type": "code",
   "execution_count": 301,
   "metadata": {},
   "outputs": [],
   "source": [
    "X = data_fix.drop(['default.payment.next.month'], axis=1)\n",
    "y = data_fix['default.payment.next.month']"
   ]
  },
  {
   "cell_type": "code",
   "execution_count": 302,
   "metadata": {},
   "outputs": [],
   "source": [
    "x_train, x_test, y_train, y_test = train_test_split(X, y, test_size=0.4, random_state=45)"
   ]
  },
  {
   "cell_type": "code",
   "execution_count": 303,
   "metadata": {},
   "outputs": [
    {
     "data": {
      "text/html": [
       "<div>\n",
       "<style scoped>\n",
       "    .dataframe tbody tr th:only-of-type {\n",
       "        vertical-align: middle;\n",
       "    }\n",
       "\n",
       "    .dataframe tbody tr th {\n",
       "        vertical-align: top;\n",
       "    }\n",
       "\n",
       "    .dataframe thead th {\n",
       "        text-align: right;\n",
       "    }\n",
       "</style>\n",
       "<table border=\"1\" class=\"dataframe\">\n",
       "  <thead>\n",
       "    <tr style=\"text-align: right;\">\n",
       "      <th></th>\n",
       "      <th>LIMIT_BAL</th>\n",
       "      <th>AGE</th>\n",
       "      <th>BILL_AMT1</th>\n",
       "      <th>BILL_AMT2</th>\n",
       "      <th>BILL_AMT3</th>\n",
       "      <th>BILL_AMT4</th>\n",
       "      <th>BILL_AMT5</th>\n",
       "      <th>BILL_AMT6</th>\n",
       "      <th>PAY_AMT1</th>\n",
       "      <th>PAY_AMT2</th>\n",
       "      <th>...</th>\n",
       "      <th>SEXnew</th>\n",
       "      <th>EDUCATIONnew</th>\n",
       "      <th>MARRIAGEnew</th>\n",
       "      <th>PAY_0new</th>\n",
       "      <th>PAY_2new</th>\n",
       "      <th>PAY_3new</th>\n",
       "      <th>PAY_4new</th>\n",
       "      <th>PAY_5new</th>\n",
       "      <th>PAY_6new</th>\n",
       "      <th>default.payment.next.month</th>\n",
       "    </tr>\n",
       "  </thead>\n",
       "  <tbody>\n",
       "    <tr>\n",
       "      <th>6575</th>\n",
       "      <td>0.058824</td>\n",
       "      <td>0.604651</td>\n",
       "      <td>0.485613</td>\n",
       "      <td>0.509526</td>\n",
       "      <td>0.628298</td>\n",
       "      <td>0.674073</td>\n",
       "      <td>0.702405</td>\n",
       "      <td>0.739554</td>\n",
       "      <td>0.000000</td>\n",
       "      <td>0.341769</td>\n",
       "      <td>...</td>\n",
       "      <td>0</td>\n",
       "      <td>1</td>\n",
       "      <td>2</td>\n",
       "      <td>4</td>\n",
       "      <td>4</td>\n",
       "      <td>2</td>\n",
       "      <td>2</td>\n",
       "      <td>2</td>\n",
       "      <td>3</td>\n",
       "      <td>0</td>\n",
       "    </tr>\n",
       "    <tr>\n",
       "      <th>7052</th>\n",
       "      <td>0.000000</td>\n",
       "      <td>0.511628</td>\n",
       "      <td>0.150894</td>\n",
       "      <td>0.115181</td>\n",
       "      <td>0.268358</td>\n",
       "      <td>0.296710</td>\n",
       "      <td>0.303110</td>\n",
       "      <td>0.309886</td>\n",
       "      <td>0.230360</td>\n",
       "      <td>0.249290</td>\n",
       "      <td>...</td>\n",
       "      <td>1</td>\n",
       "      <td>2</td>\n",
       "      <td>1</td>\n",
       "      <td>2</td>\n",
       "      <td>2</td>\n",
       "      <td>2</td>\n",
       "      <td>2</td>\n",
       "      <td>2</td>\n",
       "      <td>2</td>\n",
       "      <td>1</td>\n",
       "    </tr>\n",
       "    <tr>\n",
       "      <th>2605</th>\n",
       "      <td>0.117647</td>\n",
       "      <td>0.744186</td>\n",
       "      <td>0.291024</td>\n",
       "      <td>0.321607</td>\n",
       "      <td>0.448223</td>\n",
       "      <td>0.476425</td>\n",
       "      <td>0.512875</td>\n",
       "      <td>0.536140</td>\n",
       "      <td>0.443853</td>\n",
       "      <td>0.236518</td>\n",
       "      <td>...</td>\n",
       "      <td>1</td>\n",
       "      <td>2</td>\n",
       "      <td>1</td>\n",
       "      <td>2</td>\n",
       "      <td>2</td>\n",
       "      <td>3</td>\n",
       "      <td>2</td>\n",
       "      <td>2</td>\n",
       "      <td>2</td>\n",
       "      <td>1</td>\n",
       "    </tr>\n",
       "    <tr>\n",
       "      <th>474</th>\n",
       "      <td>0.117647</td>\n",
       "      <td>0.767442</td>\n",
       "      <td>0.100467</td>\n",
       "      <td>0.120646</td>\n",
       "      <td>0.225904</td>\n",
       "      <td>0.268296</td>\n",
       "      <td>0.240500</td>\n",
       "      <td>0.275694</td>\n",
       "      <td>0.473591</td>\n",
       "      <td>0.000000</td>\n",
       "      <td>...</td>\n",
       "      <td>0</td>\n",
       "      <td>2</td>\n",
       "      <td>1</td>\n",
       "      <td>0</td>\n",
       "      <td>0</td>\n",
       "      <td>0</td>\n",
       "      <td>0</td>\n",
       "      <td>0</td>\n",
       "      <td>0</td>\n",
       "      <td>0</td>\n",
       "    </tr>\n",
       "    <tr>\n",
       "      <th>7716</th>\n",
       "      <td>0.264706</td>\n",
       "      <td>0.116279</td>\n",
       "      <td>0.113217</td>\n",
       "      <td>0.141876</td>\n",
       "      <td>0.290452</td>\n",
       "      <td>0.319938</td>\n",
       "      <td>0.349992</td>\n",
       "      <td>0.351442</td>\n",
       "      <td>0.269419</td>\n",
       "      <td>0.255440</td>\n",
       "      <td>...</td>\n",
       "      <td>1</td>\n",
       "      <td>1</td>\n",
       "      <td>2</td>\n",
       "      <td>2</td>\n",
       "      <td>2</td>\n",
       "      <td>2</td>\n",
       "      <td>2</td>\n",
       "      <td>2</td>\n",
       "      <td>3</td>\n",
       "      <td>0</td>\n",
       "    </tr>\n",
       "  </tbody>\n",
       "</table>\n",
       "<p>5 rows × 24 columns</p>\n",
       "</div>"
      ],
      "text/plain": [
       "      LIMIT_BAL       AGE  BILL_AMT1  BILL_AMT2  BILL_AMT3  BILL_AMT4  \\\n",
       "6575   0.058824  0.604651   0.485613   0.509526   0.628298   0.674073   \n",
       "7052   0.000000  0.511628   0.150894   0.115181   0.268358   0.296710   \n",
       "2605   0.117647  0.744186   0.291024   0.321607   0.448223   0.476425   \n",
       "474    0.117647  0.767442   0.100467   0.120646   0.225904   0.268296   \n",
       "7716   0.264706  0.116279   0.113217   0.141876   0.290452   0.319938   \n",
       "\n",
       "      BILL_AMT5  BILL_AMT6  PAY_AMT1  PAY_AMT2  ...  SEXnew  EDUCATIONnew  \\\n",
       "6575   0.702405   0.739554  0.000000  0.341769  ...       0             1   \n",
       "7052   0.303110   0.309886  0.230360  0.249290  ...       1             2   \n",
       "2605   0.512875   0.536140  0.443853  0.236518  ...       1             2   \n",
       "474    0.240500   0.275694  0.473591  0.000000  ...       0             2   \n",
       "7716   0.349992   0.351442  0.269419  0.255440  ...       1             1   \n",
       "\n",
       "      MARRIAGEnew  PAY_0new  PAY_2new  PAY_3new  PAY_4new  PAY_5new  PAY_6new  \\\n",
       "6575            2         4         4         2         2         2         3   \n",
       "7052            1         2         2         2         2         2         2   \n",
       "2605            1         2         2         3         2         2         2   \n",
       "474             1         0         0         0         0         0         0   \n",
       "7716            2         2         2         2         2         2         3   \n",
       "\n",
       "      default.payment.next.month  \n",
       "6575                           0  \n",
       "7052                           1  \n",
       "2605                           1  \n",
       "474                            0  \n",
       "7716                           0  \n",
       "\n",
       "[5 rows x 24 columns]"
      ]
     },
     "execution_count": 303,
     "metadata": {},
     "output_type": "execute_result"
    }
   ],
   "source": [
    "data_train = x_train.join(pd.DataFrame({'default.payment.next.month':y_train}))\n",
    "data_train.head()"
   ]
  },
  {
   "cell_type": "code",
   "execution_count": 304,
   "metadata": {},
   "outputs": [
    {
     "data": {
      "text/html": [
       "<div>\n",
       "<style scoped>\n",
       "    .dataframe tbody tr th:only-of-type {\n",
       "        vertical-align: middle;\n",
       "    }\n",
       "\n",
       "    .dataframe tbody tr th {\n",
       "        vertical-align: top;\n",
       "    }\n",
       "\n",
       "    .dataframe thead th {\n",
       "        text-align: right;\n",
       "    }\n",
       "</style>\n",
       "<table border=\"1\" class=\"dataframe\">\n",
       "  <thead>\n",
       "    <tr style=\"text-align: right;\">\n",
       "      <th></th>\n",
       "      <th>LIMIT_BAL</th>\n",
       "      <th>AGE</th>\n",
       "      <th>BILL_AMT1</th>\n",
       "      <th>BILL_AMT2</th>\n",
       "      <th>BILL_AMT3</th>\n",
       "      <th>BILL_AMT4</th>\n",
       "      <th>BILL_AMT5</th>\n",
       "      <th>BILL_AMT6</th>\n",
       "      <th>PAY_AMT1</th>\n",
       "      <th>PAY_AMT2</th>\n",
       "      <th>...</th>\n",
       "      <th>SEXnew</th>\n",
       "      <th>EDUCATIONnew</th>\n",
       "      <th>MARRIAGEnew</th>\n",
       "      <th>PAY_0new</th>\n",
       "      <th>PAY_2new</th>\n",
       "      <th>PAY_3new</th>\n",
       "      <th>PAY_4new</th>\n",
       "      <th>PAY_5new</th>\n",
       "      <th>PAY_6new</th>\n",
       "      <th>default.payment.next.month</th>\n",
       "    </tr>\n",
       "  </thead>\n",
       "  <tbody>\n",
       "    <tr>\n",
       "      <th>1194</th>\n",
       "      <td>0.441176</td>\n",
       "      <td>0.279070</td>\n",
       "      <td>0.077464</td>\n",
       "      <td>0.085416</td>\n",
       "      <td>0.225904</td>\n",
       "      <td>0.236384</td>\n",
       "      <td>0.240500</td>\n",
       "      <td>0.244351</td>\n",
       "      <td>0.000000</td>\n",
       "      <td>0.000000</td>\n",
       "      <td>...</td>\n",
       "      <td>0</td>\n",
       "      <td>1</td>\n",
       "      <td>2</td>\n",
       "      <td>1</td>\n",
       "      <td>1</td>\n",
       "      <td>0</td>\n",
       "      <td>0</td>\n",
       "      <td>0</td>\n",
       "      <td>0</td>\n",
       "      <td>0</td>\n",
       "    </tr>\n",
       "    <tr>\n",
       "      <th>4612</th>\n",
       "      <td>0.029412</td>\n",
       "      <td>0.116279</td>\n",
       "      <td>0.294328</td>\n",
       "      <td>0.346832</td>\n",
       "      <td>0.481702</td>\n",
       "      <td>0.551327</td>\n",
       "      <td>0.391550</td>\n",
       "      <td>0.403408</td>\n",
       "      <td>0.443853</td>\n",
       "      <td>0.473037</td>\n",
       "      <td>...</td>\n",
       "      <td>0</td>\n",
       "      <td>3</td>\n",
       "      <td>2</td>\n",
       "      <td>4</td>\n",
       "      <td>2</td>\n",
       "      <td>2</td>\n",
       "      <td>2</td>\n",
       "      <td>2</td>\n",
       "      <td>2</td>\n",
       "      <td>1</td>\n",
       "    </tr>\n",
       "    <tr>\n",
       "      <th>3612</th>\n",
       "      <td>0.529412</td>\n",
       "      <td>0.279070</td>\n",
       "      <td>0.699049</td>\n",
       "      <td>0.764751</td>\n",
       "      <td>0.225904</td>\n",
       "      <td>0.236384</td>\n",
       "      <td>0.240500</td>\n",
       "      <td>0.244351</td>\n",
       "      <td>0.488238</td>\n",
       "      <td>0.000000</td>\n",
       "      <td>...</td>\n",
       "      <td>1</td>\n",
       "      <td>2</td>\n",
       "      <td>1</td>\n",
       "      <td>2</td>\n",
       "      <td>2</td>\n",
       "      <td>2</td>\n",
       "      <td>0</td>\n",
       "      <td>0</td>\n",
       "      <td>0</td>\n",
       "      <td>0</td>\n",
       "    </tr>\n",
       "    <tr>\n",
       "      <th>4486</th>\n",
       "      <td>0.117647</td>\n",
       "      <td>0.674419</td>\n",
       "      <td>0.823140</td>\n",
       "      <td>0.551507</td>\n",
       "      <td>0.656777</td>\n",
       "      <td>0.690368</td>\n",
       "      <td>0.711929</td>\n",
       "      <td>0.574389</td>\n",
       "      <td>0.496005</td>\n",
       "      <td>0.381268</td>\n",
       "      <td>...</td>\n",
       "      <td>1</td>\n",
       "      <td>3</td>\n",
       "      <td>1</td>\n",
       "      <td>2</td>\n",
       "      <td>2</td>\n",
       "      <td>2</td>\n",
       "      <td>2</td>\n",
       "      <td>2</td>\n",
       "      <td>2</td>\n",
       "      <td>0</td>\n",
       "    </tr>\n",
       "    <tr>\n",
       "      <th>8437</th>\n",
       "      <td>0.500000</td>\n",
       "      <td>0.116279</td>\n",
       "      <td>0.122446</td>\n",
       "      <td>0.085416</td>\n",
       "      <td>0.225904</td>\n",
       "      <td>0.236384</td>\n",
       "      <td>0.240500</td>\n",
       "      <td>0.244351</td>\n",
       "      <td>0.000000</td>\n",
       "      <td>0.000000</td>\n",
       "      <td>...</td>\n",
       "      <td>1</td>\n",
       "      <td>1</td>\n",
       "      <td>2</td>\n",
       "      <td>1</td>\n",
       "      <td>1</td>\n",
       "      <td>0</td>\n",
       "      <td>0</td>\n",
       "      <td>0</td>\n",
       "      <td>0</td>\n",
       "      <td>0</td>\n",
       "    </tr>\n",
       "  </tbody>\n",
       "</table>\n",
       "<p>5 rows × 24 columns</p>\n",
       "</div>"
      ],
      "text/plain": [
       "      LIMIT_BAL       AGE  BILL_AMT1  BILL_AMT2  BILL_AMT3  BILL_AMT4  \\\n",
       "1194   0.441176  0.279070   0.077464   0.085416   0.225904   0.236384   \n",
       "4612   0.029412  0.116279   0.294328   0.346832   0.481702   0.551327   \n",
       "3612   0.529412  0.279070   0.699049   0.764751   0.225904   0.236384   \n",
       "4486   0.117647  0.674419   0.823140   0.551507   0.656777   0.690368   \n",
       "8437   0.500000  0.116279   0.122446   0.085416   0.225904   0.236384   \n",
       "\n",
       "      BILL_AMT5  BILL_AMT6  PAY_AMT1  PAY_AMT2  ...  SEXnew  EDUCATIONnew  \\\n",
       "1194   0.240500   0.244351  0.000000  0.000000  ...       0             1   \n",
       "4612   0.391550   0.403408  0.443853  0.473037  ...       0             3   \n",
       "3612   0.240500   0.244351  0.488238  0.000000  ...       1             2   \n",
       "4486   0.711929   0.574389  0.496005  0.381268  ...       1             3   \n",
       "8437   0.240500   0.244351  0.000000  0.000000  ...       1             1   \n",
       "\n",
       "      MARRIAGEnew  PAY_0new  PAY_2new  PAY_3new  PAY_4new  PAY_5new  PAY_6new  \\\n",
       "1194            2         1         1         0         0         0         0   \n",
       "4612            2         4         2         2         2         2         2   \n",
       "3612            1         2         2         2         0         0         0   \n",
       "4486            1         2         2         2         2         2         2   \n",
       "8437            2         1         1         0         0         0         0   \n",
       "\n",
       "      default.payment.next.month  \n",
       "1194                           0  \n",
       "4612                           1  \n",
       "3612                           0  \n",
       "4486                           0  \n",
       "8437                           0  \n",
       "\n",
       "[5 rows x 24 columns]"
      ]
     },
     "execution_count": 304,
     "metadata": {},
     "output_type": "execute_result"
    }
   ],
   "source": [
    "data_test = x_test.join(pd.DataFrame({'default.payment.next.month':y_test}))\n",
    "data_test.head()"
   ]
  },
  {
   "cell_type": "markdown",
   "metadata": {},
   "source": [
    "# Exporting Dataset\n",
    "\n",
    "Please export your dataset into '../data/preprocessed_data/train_data.csv' for training data and '../data/preprocessed_data/test_data.csv' for testing data and keep in mind to exclude dataframe index when exporting.\n",
    "\n",
    "If you have more than one dataset combination make a counter in folder name such as 'preprocessed_data0', 'preprocessed_data1', 'preprocessed_data2', and keep on..."
   ]
  },
  {
   "cell_type": "code",
   "execution_count": 305,
   "metadata": {},
   "outputs": [],
   "source": [
    "data_train.to_csv('UCI_Credit_Card_train.csv', index = False)\n",
    "data_test.to_csv('UCI_Credit_Card_test.csv', index = False)"
   ]
  },
  {
   "cell_type": "code",
   "execution_count": null,
   "metadata": {},
   "outputs": [],
   "source": []
  }
 ],
 "metadata": {
  "kernelspec": {
   "display_name": "Python 3",
   "language": "python",
   "name": "python3"
  },
  "language_info": {
   "codemirror_mode": {
    "name": "ipython",
    "version": 3
   },
   "file_extension": ".py",
   "mimetype": "text/x-python",
   "name": "python",
   "nbconvert_exporter": "python",
   "pygments_lexer": "ipython3",
   "version": "3.7.3"
  },
  "toc": {
   "base_numbering": 1,
   "nav_menu": {},
   "number_sections": true,
   "sideBar": true,
   "skip_h1_title": false,
   "title_cell": "Table of Contents",
   "title_sidebar": "Contents",
   "toc_cell": false,
   "toc_position": {},
   "toc_section_display": true,
   "toc_window_display": false
  },
  "varInspector": {
   "cols": {
    "lenName": 16,
    "lenType": 16,
    "lenVar": 40
   },
   "kernels_config": {
    "python": {
     "delete_cmd_postfix": "",
     "delete_cmd_prefix": "del ",
     "library": "var_list.py",
     "varRefreshCmd": "print(var_dic_list())"
    },
    "r": {
     "delete_cmd_postfix": ") ",
     "delete_cmd_prefix": "rm(",
     "library": "var_list.r",
     "varRefreshCmd": "cat(var_dic_list()) "
    }
   },
   "types_to_exclude": [
    "module",
    "function",
    "builtin_function_or_method",
    "instance",
    "_Feature"
   ],
   "window_display": false
  }
 },
 "nbformat": 4,
 "nbformat_minor": 2
}
